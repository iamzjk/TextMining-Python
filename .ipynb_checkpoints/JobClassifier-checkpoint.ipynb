{
 "cells": [
  {
   "cell_type": "markdown",
   "metadata": {},
   "source": [
    "# Job Classifier"
   ]
  },
  {
   "cell_type": "code",
   "execution_count": 189,
   "metadata": {
    "collapsed": true
   },
   "outputs": [],
   "source": [
    "import pandas as pd\n",
    "import numpy as np\n",
    "from nltk.tag import StanfordPOSTagger"
   ]
  },
  {
   "cell_type": "code",
   "execution_count": 190,
   "metadata": {
    "collapsed": true
   },
   "outputs": [],
   "source": [
    "import nltk\n",
    "# nltk.download('averaged_perceptron_tagger')"
   ]
  },
  {
   "cell_type": "markdown",
   "metadata": {},
   "source": [
    "## Prepare sample data"
   ]
  },
  {
   "cell_type": "code",
   "execution_count": 191,
   "metadata": {
    "collapsed": false
   },
   "outputs": [
    {
     "name": "stderr",
     "output_type": "stream",
     "text": [
      "Skipping line 3: expected 527 fields, saw 569\n",
      "Skipping line 8: expected 527 fields, saw 541\n",
      "Skipping line 23: expected 527 fields, saw 580\n",
      "Skipping line 25: expected 527 fields, saw 616\n",
      "\n"
     ]
    }
   ],
   "source": [
    "nn_summary = \".\\\\tags\\\\nn-summary.txt\"\n",
    "df_nn_summary = pd.read_table(nn_summary, sep=\"|\",index_col=False, header=None,error_bad_lines=False)"
   ]
  },
  {
   "cell_type": "code",
   "execution_count": 192,
   "metadata": {
    "collapsed": false
   },
   "outputs": [],
   "source": [
    "df_nn_summary = df_nn_summary.transpose().fillna(\"\")"
   ]
  },
  {
   "cell_type": "code",
   "execution_count": 193,
   "metadata": {
    "collapsed": false
   },
   "outputs": [],
   "source": [
    "df_nn_summary.columns = df_nn_summary.iloc[0]"
   ]
  },
  {
   "cell_type": "code",
   "execution_count": 194,
   "metadata": {
    "collapsed": false
   },
   "outputs": [],
   "source": [
    "df_nn_summary = df_nn_summary[2:]"
   ]
  },
  {
   "cell_type": "code",
   "execution_count": 195,
   "metadata": {
    "collapsed": false
   },
   "outputs": [],
   "source": [
    "df_nn_summary_3 = df_nn_summary[['SQL','Java','Python']]"
   ]
  },
  {
   "cell_type": "code",
   "execution_count": 196,
   "metadata": {
    "collapsed": false
   },
   "outputs": [
    {
     "data": {
      "text/html": [
       "<div>\n",
       "<table border=\"1\" class=\"dataframe\">\n",
       "  <thead>\n",
       "    <tr style=\"text-align: right;\">\n",
       "      <th></th>\n",
       "      <th>SQL</th>\n",
       "      <th>Java</th>\n",
       "      <th>Python</th>\n",
       "    </tr>\n",
       "  </thead>\n",
       "  <tbody>\n",
       "    <tr>\n",
       "      <th>2</th>\n",
       "      <td>Experience</td>\n",
       "      <td>Experience</td>\n",
       "      <td>experience</td>\n",
       "    </tr>\n",
       "    <tr>\n",
       "      <th>3</th>\n",
       "      <td>gathering</td>\n",
       "      <td>development</td>\n",
       "      <td>programming</td>\n",
       "    </tr>\n",
       "    <tr>\n",
       "      <th>4</th>\n",
       "      <td>design</td>\n",
       "      <td>life</td>\n",
       "      <td>•</td>\n",
       "    </tr>\n",
       "    <tr>\n",
       "      <th>5</th>\n",
       "      <td>development</td>\n",
       "      <td>cycle</td>\n",
       "      <td>software</td>\n",
       "    </tr>\n",
       "    <tr>\n",
       "      <th>6</th>\n",
       "      <td>implementation</td>\n",
       "      <td>knowledge</td>\n",
       "      <td>development</td>\n",
       "    </tr>\n",
       "    <tr>\n",
       "      <th>7</th>\n",
       "      <td>web</td>\n",
       "      <td>programming</td>\n",
       "      <td>life-cycle</td>\n",
       "    </tr>\n",
       "    <tr>\n",
       "      <th>8</th>\n",
       "      <td>•</td>\n",
       "      <td>Design</td>\n",
       "      <td>object</td>\n",
       "    </tr>\n",
       "    <tr>\n",
       "      <th>9</th>\n",
       "      <td>business</td>\n",
       "      <td>•</td>\n",
       "      <td>database</td>\n",
       "    </tr>\n",
       "    <tr>\n",
       "      <th>10</th>\n",
       "      <td>team</td>\n",
       "      <td>web</td>\n",
       "      <td>design</td>\n",
       "    </tr>\n",
       "    <tr>\n",
       "      <th>11</th>\n",
       "      <td>enterprise</td>\n",
       "      <td>experience</td>\n",
       "      <td>code</td>\n",
       "    </tr>\n",
       "  </tbody>\n",
       "</table>\n",
       "</div>"
      ],
      "text/plain": [
       "0              SQL         Java       Python\n",
       "2       Experience   Experience   experience\n",
       "3        gathering  development  programming\n",
       "4           design         life            •\n",
       "5      development        cycle     software\n",
       "6   implementation    knowledge  development\n",
       "7              web  programming   life-cycle\n",
       "8                •       Design       object\n",
       "9         business            •     database\n",
       "10            team          web       design\n",
       "11      enterprise   experience         code"
      ]
     },
     "execution_count": 196,
     "metadata": {},
     "output_type": "execute_result"
    }
   ],
   "source": [
    "df_nn_summary_3.head(10)"
   ]
  },
  {
   "cell_type": "code",
   "execution_count": 197,
   "metadata": {
    "collapsed": false
   },
   "outputs": [
    {
     "data": {
      "text/html": [
       "<div>\n",
       "<table border=\"1\" class=\"dataframe\">\n",
       "  <thead>\n",
       "    <tr style=\"text-align: right;\">\n",
       "      <th></th>\n",
       "      <th>SQL</th>\n",
       "      <th>Java</th>\n",
       "      <th>Python</th>\n",
       "    </tr>\n",
       "  </thead>\n",
       "  <tbody>\n",
       "    <tr>\n",
       "      <th>517</th>\n",
       "      <td>de-normalization</td>\n",
       "      <td></td>\n",
       "      <td></td>\n",
       "    </tr>\n",
       "    <tr>\n",
       "      <th>518</th>\n",
       "      <td>Back-up</td>\n",
       "      <td></td>\n",
       "      <td></td>\n",
       "    </tr>\n",
       "    <tr>\n",
       "      <th>519</th>\n",
       "      <td>conversion</td>\n",
       "      <td></td>\n",
       "      <td></td>\n",
       "    </tr>\n",
       "    <tr>\n",
       "      <th>520</th>\n",
       "      <td>relationship</td>\n",
       "      <td></td>\n",
       "      <td></td>\n",
       "    </tr>\n",
       "    <tr>\n",
       "      <th>521</th>\n",
       "      <td>concept</td>\n",
       "      <td></td>\n",
       "      <td></td>\n",
       "    </tr>\n",
       "    <tr>\n",
       "      <th>522</th>\n",
       "      <td>Transform</td>\n",
       "      <td></td>\n",
       "      <td></td>\n",
       "    </tr>\n",
       "    <tr>\n",
       "      <th>523</th>\n",
       "      <td>exploration</td>\n",
       "      <td></td>\n",
       "      <td></td>\n",
       "    </tr>\n",
       "    <tr>\n",
       "      <th>524</th>\n",
       "      <td>builder</td>\n",
       "      <td></td>\n",
       "      <td></td>\n",
       "    </tr>\n",
       "    <tr>\n",
       "      <th>525</th>\n",
       "      <td>adaptability</td>\n",
       "      <td></td>\n",
       "      <td></td>\n",
       "    </tr>\n",
       "    <tr>\n",
       "      <th>526</th>\n",
       "      <td>leader</td>\n",
       "      <td></td>\n",
       "      <td></td>\n",
       "    </tr>\n",
       "  </tbody>\n",
       "</table>\n",
       "</div>"
      ],
      "text/plain": [
       "0                 SQL Java Python\n",
       "517  de-normalization            \n",
       "518           Back-up            \n",
       "519        conversion            \n",
       "520      relationship            \n",
       "521           concept            \n",
       "522         Transform            \n",
       "523       exploration            \n",
       "524           builder            \n",
       "525      adaptability            \n",
       "526            leader            "
      ]
     },
     "execution_count": 197,
     "metadata": {},
     "output_type": "execute_result"
    }
   ],
   "source": [
    "df_nn_summary_3.tail(10)"
   ]
  },
  {
   "cell_type": "code",
   "execution_count": 198,
   "metadata": {
    "collapsed": false
   },
   "outputs": [
    {
     "data": {
      "text/plain": [
       "2      experience\n",
       "3     programming\n",
       "4               •\n",
       "5        software\n",
       "6     development\n",
       "7      life-cycle\n",
       "8          object\n",
       "9        database\n",
       "10         design\n",
       "11           code\n",
       "Name: Python, dtype: object"
      ]
     },
     "execution_count": 198,
     "metadata": {},
     "output_type": "execute_result"
    }
   ],
   "source": [
    "df_nn_summary_3.Python.head(10)"
   ]
  },
  {
   "cell_type": "markdown",
   "metadata": {},
   "source": [
    "## Processing input data : job requirement.docx/doc\n",
    "\n",
    "Python_job_req1.txt"
   ]
  },
  {
   "cell_type": "code",
   "execution_count": 199,
   "metadata": {
    "collapsed": false
   },
   "outputs": [],
   "source": [
    "### STEP1: read in txt\n",
    "with open('.\\\\Python_job_req1.txt', 'r') as myfile:\n",
    "    text=myfile.read().replace('\\n', ' ')"
   ]
  },
  {
   "cell_type": "code",
   "execution_count": 200,
   "metadata": {
    "collapsed": false
   },
   "outputs": [],
   "source": [
    "text = text.replace(\"\\x95\\t\",\" \")"
   ]
  },
  {
   "cell_type": "code",
   "execution_count": 201,
   "metadata": {
    "collapsed": false
   },
   "outputs": [
    {
     "data": {
      "text/plain": [
       "['Python',\n",
       " 'Developer',\n",
       " 'Mondo',\n",
       " '-',\n",
       " 'New',\n",
       " 'York',\n",
       " ',',\n",
       " 'NY',\n",
       " 'Title',\n",
       " 'Python']"
      ]
     },
     "execution_count": 201,
     "metadata": {},
     "output_type": "execute_result"
    }
   ],
   "source": [
    "tokens = nltk.word_tokenize(text)\n",
    "tokens[:10]"
   ]
  },
  {
   "cell_type": "code",
   "execution_count": 202,
   "metadata": {
    "collapsed": false
   },
   "outputs": [
    {
     "data": {
      "text/plain": [
       "[('Python', 'NNP'),\n",
       " ('Developer', 'NNP'),\n",
       " ('Mondo', 'NNP'),\n",
       " ('-', ':'),\n",
       " ('New', 'NNP'),\n",
       " ('York', 'NNP'),\n",
       " (',', ','),\n",
       " ('NY', 'NNP'),\n",
       " ('Title', 'NNP'),\n",
       " ('Python', 'NNP')]"
      ]
     },
     "execution_count": 202,
     "metadata": {},
     "output_type": "execute_result"
    }
   ],
   "source": [
    "input_postag = nltk.pos_tag(tokens)\n",
    "input_postag[:10]"
   ]
  },
  {
   "cell_type": "code",
   "execution_count": 203,
   "metadata": {
    "collapsed": false
   },
   "outputs": [
    {
     "data": {
      "text/plain": [
       "['developer',\n",
       " 'fast',\n",
       " 'team',\n",
       " 'business',\n",
       " 'health',\n",
       " 'participant',\n",
       " 'source',\n",
       " 'community',\n",
       " 'ability',\n",
       " 'product',\n",
       " 'vision',\n",
       " 'team',\n",
       " 'experience',\n",
       " 'experience',\n",
       " 'shell',\n",
       " 'proficient',\n",
       " 'version',\n",
       " 'control',\n",
       " 'integration',\n",
       " 'pair',\n",
       " 'programming',\n",
       " 'code',\n",
       " 'Experience',\n",
       " 'product',\n",
       " 'management',\n",
       " 'staff',\n",
       " 'product',\n",
       " 'marketing',\n",
       " 'experience',\n",
       " 'software',\n",
       " 'source',\n",
       " 'software',\n",
       " 'development',\n",
       " 'hacking',\n",
       " 'experience',\n",
       " 'ability',\n",
       " 'staff',\n",
       " 'presenting',\n",
       " 'environment',\n",
       " 'experience',\n",
       " 'building',\n",
       " 'parallel',\n",
       " 'processing',\n",
       " 'queue',\n",
       " 'Experience',\n",
       " 'web',\n",
       " 'solution',\n",
       " 'experience']"
      ]
     },
     "execution_count": 203,
     "metadata": {},
     "output_type": "execute_result"
    }
   ],
   "source": [
    "# filtering list, keep NN only\n",
    "input_postag_nn = [x[0] for x in input_postag if x[1] == 'NN']\n",
    "input_postag_nn"
   ]
  },
  {
   "cell_type": "markdown",
   "metadata": {},
   "source": [
    "## Classification using Naive Bayes in scikit-learn \n",
    "[Working With Text](http://scikit-learn.org/stable/tutorial/text_analytics/working_with_text_data.html#working-with-text-data)  \n",
    "[Multinomial Naive Bayes](http://scikit-learn.org/stable/modules/naive_bayes.html#multinomial-naive-bayes)  \n",
    "[MultinomialNB Example](http://scikit-learn.org/stable/modules/generated/sklearn.naive_bayes.MultinomialNB.html#sklearn.naive_bayes.MultinomialNB)"
   ]
  },
  {
   "cell_type": "code",
   "execution_count": 204,
   "metadata": {
    "collapsed": true
   },
   "outputs": [],
   "source": [
    "from sklearn.naive_bayes import MultinomialNB\n",
    "from sklearn.feature_extraction.text import CountVectorizer"
   ]
  },
  {
   "cell_type": "code",
   "execution_count": 205,
   "metadata": {
    "collapsed": false
   },
   "outputs": [
    {
     "data": {
      "text/plain": [
       "'\\nX_train_counts = count_vect.fit_transform(twenty_train.data)\\ntfidf_transformer = TfidfTransformer()\\nX_train_tfidf = tfidf_transformer.fit_transform(X_train_counts)\\nX_train_tfidf\\ntwenty_train\\n'"
      ]
     },
     "execution_count": 205,
     "metadata": {},
     "output_type": "execute_result"
    }
   ],
   "source": [
    "'''\n",
    "X_train_counts = count_vect.fit_transform(twenty_train.data)\n",
    "tfidf_transformer = TfidfTransformer()\n",
    "X_train_tfidf = tfidf_transformer.fit_transform(X_train_counts)\n",
    "X_train_tfidf\n",
    "twenty_train\n",
    "'''"
   ]
  },
  {
   "cell_type": "code",
   "execution_count": 206,
   "metadata": {
    "collapsed": false
   },
   "outputs": [
    {
     "data": {
      "text/plain": [
       "'\\n#test\\nfrom sklearn.naive_bayes import MultinomialNB\\nclf = MultinomialNB().fit(X_train_tfidf, twenty_train.target)\\n'"
      ]
     },
     "execution_count": 206,
     "metadata": {},
     "output_type": "execute_result"
    }
   ],
   "source": [
    "'''\n",
    "#test\n",
    "from sklearn.naive_bayes import MultinomialNB\n",
    "clf = MultinomialNB().fit(X_train_tfidf, twenty_train.target)\n",
    "'''"
   ]
  },
  {
   "cell_type": "code",
   "execution_count": 207,
   "metadata": {
    "collapsed": false
   },
   "outputs": [],
   "source": [
    "X_nn_summary_3 = (df_nn_summary_3.transpose().values)"
   ]
  },
  {
   "cell_type": "code",
   "execution_count": 246,
   "metadata": {
    "collapsed": false
   },
   "outputs": [],
   "source": [
    "X_nn_summary_list = []"
   ]
  },
  {
   "cell_type": "code",
   "execution_count": 247,
   "metadata": {
    "collapsed": false
   },
   "outputs": [
    {
     "data": {
      "text/plain": [
       "list"
      ]
     },
     "execution_count": 247,
     "metadata": {},
     "output_type": "execute_result"
    }
   ],
   "source": [
    "type(X_nn_summary_list)"
   ]
  },
  {
   "cell_type": "code",
   "execution_count": 248,
   "metadata": {
    "collapsed": false
   },
   "outputs": [],
   "source": [
    "X_nn_summary_list_SQL = \" \".join(X_nn_summary_3[0])\n",
    "X_nn_summary_list_Java = \" \".join(X_nn_summary_3[1])\n",
    "X_nn_summary_list_Python = \" \".join(X_nn_summary_3[2])"
   ]
  },
  {
   "cell_type": "code",
   "execution_count": 249,
   "metadata": {
    "collapsed": false
   },
   "outputs": [],
   "source": [
    "X_nn_summary_list.insert(0,X_nn_summary_list_SQL)\n",
    "X_nn_summary_list.insert(1,X_nn_summary_list_Java)\n",
    "X_nn_summary_list.insert(2,X_nn_summary_list_Python)"
   ]
  },
  {
   "cell_type": "code",
   "execution_count": 252,
   "metadata": {
    "collapsed": false
   },
   "outputs": [],
   "source": [
    "X_nn_summary_ar = np.array(X_nn_summary_list)"
   ]
  },
  {
   "cell_type": "code",
   "execution_count": 253,
   "metadata": {
    "collapsed": false
   },
   "outputs": [
    {
     "data": {
      "text/plain": [
       "(3L,)"
      ]
     },
     "execution_count": 253,
     "metadata": {},
     "output_type": "execute_result"
    }
   ],
   "source": [
    "X_nn_summary_ar.shape"
   ]
  },
  {
   "cell_type": "code",
   "execution_count": 72,
   "metadata": {
    "collapsed": true
   },
   "outputs": [],
   "source": [
    "y = np.array([\"SQL\",\"Java\",\"Python\"])"
   ]
  },
  {
   "cell_type": "markdown",
   "metadata": {},
   "source": [
    "[AttributeError: 'numpy.ndarray' object has no attribute 'lower'](http://stackoverflow.com/questions/26367075/numpy-countvectorizer-attributeerror-numpy-ndarray-object-has-no-attribute)"
   ]
  },
  {
   "cell_type": "code",
   "execution_count": 255,
   "metadata": {
    "collapsed": false
   },
   "outputs": [],
   "source": [
    "X_nn_summary_vectorized = CountVectorizer()\\\n",
    "    .fit_transform(X_nn_summary_ar)"
   ]
  },
  {
   "cell_type": "code",
   "execution_count": 256,
   "metadata": {
    "collapsed": false
   },
   "outputs": [
    {
     "data": {
      "text/plain": [
       "<3x791 sparse matrix of type '<type 'numpy.int64'>'\n",
       "\twith 1211 stored elements in Compressed Sparse Row format>"
      ]
     },
     "execution_count": 256,
     "metadata": {},
     "output_type": "execute_result"
    }
   ],
   "source": [
    "X_nn_summary_vectorized"
   ]
  },
  {
   "cell_type": "code",
   "execution_count": 264,
   "metadata": {
    "collapsed": false
   },
   "outputs": [
    {
     "data": {
      "text/plain": [
       "MultinomialNB(alpha=1.0, class_prior=None, fit_prior=True)"
      ]
     },
     "execution_count": 264,
     "metadata": {},
     "output_type": "execute_result"
    }
   ],
   "source": [
    "clf = MultinomialNB()\n",
    "clf.fit(X_nn_summary_vectorized, y)"
   ]
  },
  {
   "cell_type": "code",
   "execution_count": 265,
   "metadata": {
    "collapsed": true
   },
   "outputs": [],
   "source": [
    "input_nn = \" \".join(input_postag_nn)"
   ]
  },
  {
   "cell_type": "code",
   "execution_count": 267,
   "metadata": {
    "collapsed": false
   },
   "outputs": [
    {
     "ename": "TypeError",
     "evalue": "Cannot cast array data from dtype('float64') to dtype('S32') according to the rule 'safe'",
     "output_type": "error",
     "traceback": [
      "\u001b[0;31m---------------------------------------------------------------------------\u001b[0m",
      "\u001b[0;31mTypeError\u001b[0m                                 Traceback (most recent call last)",
      "\u001b[0;32m<ipython-input-267-f232641fa67a>\u001b[0m in \u001b[0;36m<module>\u001b[0;34m()\u001b[0m\n\u001b[0;32m----> 1\u001b[0;31m \u001b[0mclf\u001b[0m\u001b[1;33m.\u001b[0m\u001b[0mpredict\u001b[0m\u001b[1;33m(\u001b[0m\u001b[0minput_nn\u001b[0m\u001b[1;33m)\u001b[0m\u001b[1;33m\u001b[0m\u001b[0m\n\u001b[0m",
      "\u001b[0;32mc:\\Users\\Primesys\\Anaconda2\\lib\\site-packages\\sklearn\\naive_bayes.pyc\u001b[0m in \u001b[0;36mpredict\u001b[0;34m(self, X)\u001b[0m\n\u001b[1;32m     63\u001b[0m             \u001b[0mPredicted\u001b[0m \u001b[0mtarget\u001b[0m \u001b[0mvalues\u001b[0m \u001b[1;32mfor\u001b[0m \u001b[0mX\u001b[0m\u001b[1;33m\u001b[0m\u001b[0m\n\u001b[1;32m     64\u001b[0m         \"\"\"\n\u001b[0;32m---> 65\u001b[0;31m         \u001b[0mjll\u001b[0m \u001b[1;33m=\u001b[0m \u001b[0mself\u001b[0m\u001b[1;33m.\u001b[0m\u001b[0m_joint_log_likelihood\u001b[0m\u001b[1;33m(\u001b[0m\u001b[0mX\u001b[0m\u001b[1;33m)\u001b[0m\u001b[1;33m\u001b[0m\u001b[0m\n\u001b[0m\u001b[1;32m     66\u001b[0m         \u001b[1;32mreturn\u001b[0m \u001b[0mself\u001b[0m\u001b[1;33m.\u001b[0m\u001b[0mclasses_\u001b[0m\u001b[1;33m[\u001b[0m\u001b[0mnp\u001b[0m\u001b[1;33m.\u001b[0m\u001b[0margmax\u001b[0m\u001b[1;33m(\u001b[0m\u001b[0mjll\u001b[0m\u001b[1;33m,\u001b[0m \u001b[0maxis\u001b[0m\u001b[1;33m=\u001b[0m\u001b[1;36m1\u001b[0m\u001b[1;33m)\u001b[0m\u001b[1;33m]\u001b[0m\u001b[1;33m\u001b[0m\u001b[0m\n\u001b[1;32m     67\u001b[0m \u001b[1;33m\u001b[0m\u001b[0m\n",
      "\u001b[0;32mc:\\Users\\Primesys\\Anaconda2\\lib\\site-packages\\sklearn\\naive_bayes.pyc\u001b[0m in \u001b[0;36m_joint_log_likelihood\u001b[0;34m(self, X)\u001b[0m\n\u001b[1;32m    670\u001b[0m \u001b[1;33m\u001b[0m\u001b[0m\n\u001b[1;32m    671\u001b[0m         \u001b[0mX\u001b[0m \u001b[1;33m=\u001b[0m \u001b[0mcheck_array\u001b[0m\u001b[1;33m(\u001b[0m\u001b[0mX\u001b[0m\u001b[1;33m,\u001b[0m \u001b[0maccept_sparse\u001b[0m\u001b[1;33m=\u001b[0m\u001b[1;34m'csr'\u001b[0m\u001b[1;33m)\u001b[0m\u001b[1;33m\u001b[0m\u001b[0m\n\u001b[0;32m--> 672\u001b[0;31m         return (safe_sparse_dot(X, self.feature_log_prob_.T)\n\u001b[0m\u001b[1;32m    673\u001b[0m                 + self.class_log_prior_)\n\u001b[1;32m    674\u001b[0m \u001b[1;33m\u001b[0m\u001b[0m\n",
      "\u001b[0;32mc:\\Users\\Primesys\\Anaconda2\\lib\\site-packages\\sklearn\\utils\\extmath.pyc\u001b[0m in \u001b[0;36msafe_sparse_dot\u001b[0;34m(a, b, dense_output)\u001b[0m\n\u001b[1;32m    182\u001b[0m         \u001b[1;32mreturn\u001b[0m \u001b[0mret\u001b[0m\u001b[1;33m\u001b[0m\u001b[0m\n\u001b[1;32m    183\u001b[0m     \u001b[1;32melse\u001b[0m\u001b[1;33m:\u001b[0m\u001b[1;33m\u001b[0m\u001b[0m\n\u001b[0;32m--> 184\u001b[0;31m         \u001b[1;32mreturn\u001b[0m \u001b[0mfast_dot\u001b[0m\u001b[1;33m(\u001b[0m\u001b[0ma\u001b[0m\u001b[1;33m,\u001b[0m \u001b[0mb\u001b[0m\u001b[1;33m)\u001b[0m\u001b[1;33m\u001b[0m\u001b[0m\n\u001b[0m\u001b[1;32m    185\u001b[0m \u001b[1;33m\u001b[0m\u001b[0m\n\u001b[1;32m    186\u001b[0m \u001b[1;33m\u001b[0m\u001b[0m\n",
      "\u001b[0;31mTypeError\u001b[0m: Cannot cast array data from dtype('float64') to dtype('S32') according to the rule 'safe'"
     ]
    }
   ],
   "source": [
    "clf.predict(input_nn)"
   ]
  },
  {
   "cell_type": "code",
   "execution_count": 270,
   "metadata": {
    "collapsed": false
   },
   "outputs": [],
   "source": [
    "from sklearn.feature_extraction.text import TfidfTransformer\n",
    "from sklearn.pipeline import Pipeline\n",
    "text_clf = Pipeline([('vect', CountVectorizer()),\n",
    "                     ('clf', MultinomialNB()),\n",
    "                     ])"
   ]
  },
  {
   "cell_type": "code",
   "execution_count": 271,
   "metadata": {
    "collapsed": true
   },
   "outputs": [],
   "source": [
    "text_clf = text_clf.fit(X_nn_summary_list, y)"
   ]
  },
  {
   "cell_type": "code",
   "execution_count": 272,
   "metadata": {
    "collapsed": false
   },
   "outputs": [
    {
     "data": {
      "text/plain": [
       "array(['Java', 'Java', 'Java', 'Java', 'Java', 'Java', 'Java', 'Java',\n",
       "       'Java', 'Java', 'Java', 'Java', 'Java', 'Java', 'Java', 'Java',\n",
       "       'Java', 'Java', 'Java', 'Java', 'Java', 'Java', 'Java', 'Java',\n",
       "       'Java', 'Java', 'Java', 'Java', 'Java', 'Java', 'Java', 'Java',\n",
       "       'Java', 'Java', 'Java', 'Java', 'Java', 'Java', 'Java', 'Java',\n",
       "       'Java', 'Java', 'Java', 'Java', 'Java', 'Java', 'Java', 'Java',\n",
       "       'Java', 'Java', 'Java', 'Java', 'Java', 'Java', 'Java', 'Java',\n",
       "       'Java', 'Java', 'Java', 'Java', 'Java', 'Java', 'Java', 'Java',\n",
       "       'Java', 'Java', 'Java', 'Java', 'Java', 'Java', 'Java', 'Java',\n",
       "       'Java', 'Java', 'Java', 'Java', 'Java', 'Java', 'Java', 'Java',\n",
       "       'Java', 'Java', 'Java', 'Java', 'Java', 'Java', 'Java', 'Java',\n",
       "       'Java', 'Java', 'Java', 'Java', 'Java', 'Java', 'Java', 'Java',\n",
       "       'Java', 'Java', 'Java', 'Java', 'Java', 'Java', 'Java', 'Java',\n",
       "       'Java', 'Java', 'Java', 'Java', 'Java', 'Java', 'Java', 'Java',\n",
       "       'Java', 'Java', 'Java', 'Java', 'Java', 'Java', 'Java', 'Java',\n",
       "       'Java', 'Java', 'Java', 'Java', 'Java', 'Java', 'Java', 'Java',\n",
       "       'Java', 'Java', 'Java', 'Java', 'Java', 'Java', 'Java', 'Java',\n",
       "       'Java', 'Java', 'Java', 'Java', 'Java', 'Java', 'Java', 'Java',\n",
       "       'Java', 'Java', 'Java', 'Java', 'Java', 'Java', 'Java', 'Java',\n",
       "       'Java', 'Java', 'Java', 'Java', 'Java', 'Java', 'Java', 'Java',\n",
       "       'Java', 'Java', 'Java', 'Java', 'Java', 'Java', 'Java', 'Java',\n",
       "       'Java', 'Java', 'Java', 'Java', 'Java', 'Java', 'Java', 'Java',\n",
       "       'Java', 'Java', 'Java', 'Java', 'Java', 'Java', 'Java', 'Java',\n",
       "       'Java', 'Java', 'Java', 'Java', 'Java', 'Java', 'Java', 'Java',\n",
       "       'Java', 'Java', 'Java', 'Java', 'Java', 'Java', 'Java', 'Java',\n",
       "       'Java', 'Java', 'Java', 'Java', 'Java', 'Java', 'Java', 'Java',\n",
       "       'Java', 'Java', 'Java', 'Java', 'Java', 'Java', 'Java', 'Java',\n",
       "       'Java', 'Java', 'Java', 'Java', 'Java', 'Java', 'Java', 'Java',\n",
       "       'Java', 'Java', 'Java', 'Java', 'Java', 'Java', 'Java', 'Java',\n",
       "       'Java', 'Java', 'Java', 'Java', 'Java', 'Java', 'Java', 'Java',\n",
       "       'Java', 'Java', 'Java', 'Java', 'Java', 'Java', 'Java', 'Java',\n",
       "       'Java', 'Java', 'Java', 'Java', 'Java', 'Java', 'Java', 'Java',\n",
       "       'Java', 'Java', 'Java', 'Java', 'Java', 'Java', 'Java', 'Java',\n",
       "       'Java', 'Java', 'Java', 'Java', 'Java', 'Java', 'Java', 'Java',\n",
       "       'Java', 'Java', 'Java', 'Java', 'Java', 'Java', 'Java', 'Java',\n",
       "       'Java', 'Java', 'Java', 'Java', 'Java', 'Java', 'Java', 'Java',\n",
       "       'Java', 'Java', 'Java', 'Java', 'Java', 'Java', 'Java', 'Java',\n",
       "       'Java', 'Java', 'Java', 'Java', 'Java', 'Java', 'Java', 'Java',\n",
       "       'Java', 'Java', 'Java', 'Java', 'Java', 'Java', 'Java', 'Java',\n",
       "       'Java', 'Java', 'Java', 'Java', 'Java', 'Java', 'Java', 'Java',\n",
       "       'Java', 'Java', 'Java', 'Java', 'Java', 'Java', 'Java', 'Java',\n",
       "       'Java', 'Java', 'Java', 'Java', 'Java', 'Java', 'Java', 'Java',\n",
       "       'Java', 'Java', 'Java', 'Java', 'Java', 'Java', 'Java', 'Java',\n",
       "       'Java', 'Java', 'Java', 'Java', 'Java', 'Java', 'Java', 'Java',\n",
       "       'Java', 'Java', 'Java', 'Java', 'Java', 'Java', 'Java', 'Java',\n",
       "       'Java', 'Java', 'Java', 'Java', 'Java', 'Java', 'Java', 'Java',\n",
       "       'Java', 'Java', 'Java', 'Java', 'Java', 'Java', 'Java', 'Java',\n",
       "       'Java', 'Java', 'Java', 'Java', 'Java', 'Java', 'Java', 'Java',\n",
       "       'Java', 'Java', 'Java', 'Java', 'Java', 'Java', 'Java', 'Java',\n",
       "       'Java', 'Java', 'Java', 'Java', 'Java', 'Java', 'Java', 'Java',\n",
       "       'Java', 'Java', 'Java', 'Java', 'Java', 'Java', 'Java', 'Java',\n",
       "       'Java', 'Java', 'Java', 'Java', 'Java', 'Java', 'Java', 'Java',\n",
       "       'Java', 'Java', 'Java', 'Java'], \n",
       "      dtype='|S6')"
      ]
     },
     "execution_count": 272,
     "metadata": {},
     "output_type": "execute_result"
    }
   ],
   "source": [
    "text_clf.predict(input_nn)"
   ]
  },
  {
   "cell_type": "code",
   "execution_count": null,
   "metadata": {
    "collapsed": true
   },
   "outputs": [],
   "source": []
  }
 ],
 "metadata": {
  "anaconda-cloud": {},
  "kernelspec": {
   "display_name": "Python [default]",
   "language": "python",
   "name": "python2"
  },
  "language_info": {
   "codemirror_mode": {
    "name": "ipython",
    "version": 2
   },
   "file_extension": ".py",
   "mimetype": "text/x-python",
   "name": "python",
   "nbconvert_exporter": "python",
   "pygments_lexer": "ipython2",
   "version": "2.7.12"
  }
 },
 "nbformat": 4,
 "nbformat_minor": 1
}
