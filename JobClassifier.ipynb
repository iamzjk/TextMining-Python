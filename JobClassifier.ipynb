{
 "cells": [
  {
   "cell_type": "markdown",
   "metadata": {},
   "source": [
    "# Job Classifier"
   ]
  },
  {
   "cell_type": "code",
   "execution_count": 497,
   "metadata": {
    "collapsed": true
   },
   "outputs": [],
   "source": [
    "import pandas as pd\n",
    "import numpy as np\n",
    "from nltk.tag import StanfordPOSTagger"
   ]
  },
  {
   "cell_type": "code",
   "execution_count": 498,
   "metadata": {
    "collapsed": false
   },
   "outputs": [],
   "source": [
    "import nltk\n",
    "# nltk.download('averaged_perceptron_tagger')\n",
    "# nltk.download('punkt')"
   ]
  },
  {
   "cell_type": "markdown",
   "metadata": {},
   "source": [
    "## 1.1 Prepare sample data from POSTags, NO longer needed"
   ]
  },
  {
   "cell_type": "code",
   "execution_count": 499,
   "metadata": {
    "collapsed": false
   },
   "outputs": [],
   "source": [
    "inputfile = \"./tags/nnp-summary.txt\"\n",
    "\n",
    "#df_nn_summary = pd.read_table(nn_summary, sep=\"|\",index_col=False, header=None, error_bad_lines=False)\n",
    "\n",
    "#names = [\"token\"]*1314\n",
    "#df_nn_summary = pd.read_table(nn_summary, sep=\"|\",index_col=False, header=None, names = names) #error_bad_lines=False)"
   ]
  },
  {
   "cell_type": "code",
   "execution_count": 500,
   "metadata": {
    "collapsed": false
   },
   "outputs": [
    {
     "name": "stdout",
     "output_type": "stream",
     "text": [
      "ETL\n"
     ]
    }
   ],
   "source": [
    "import csv\n",
    "with open(inputfile) as f:\n",
    "    reader = csv.reader(f, delimiter=\"|\")\n",
    "    d = list(reader)\n",
    "print d[0][2] # test"
   ]
  },
  {
   "cell_type": "code",
   "execution_count": 501,
   "metadata": {
    "collapsed": false
   },
   "outputs": [
    {
     "name": "stdout",
     "output_type": "stream",
     "text": [
      "SQL|SQL Developer|ETL|SSIS|SQL|Server|SQL|Server|Web|JavaScript|JQuery|HTML5|CSS3|JavaScript|•|Extensive|Microsoft|Business|Intelligence|SQL|Server|Integration|Services|SSIS|SQL|Server|Reporting|Services|SSRS|ETL|SSIS|Custom|Report|Tabular|Reports|Matrix|Reports|Ad|SQL|Server|Reporting|Services|SSRS|DATA|•|Expert|Bulk|BCP|Data|Transformation|Services|DTS|SSIS|•|Expertise|SQL|Server|Data|Modeling|Star|Schema/Snowflake|Schema|Fact|Dimensions|Visio|Software|Development|Life|Cycle|SDLC|Agile|Methodology|Waterfall|ETL|SSIS|•|Extensive|SSIS|File|Transfer|Protocol|FTP|Secure|File|Transfer|Protocol|SFTP\n"
     ]
    }
   ],
   "source": [
    "# the first line of our data\n",
    "print '|'.join(d[0])"
   ]
  },
  {
   "cell_type": "code",
   "execution_count": 502,
   "metadata": {
    "collapsed": false
   },
   "outputs": [
    {
     "name": "stdout",
     "output_type": "stream",
     "text": [
      "['SQL', 'SQL', 'SQL', 'SQL', 'SQL', 'SQL', 'SQL', 'SQL', 'SQL', 'SQL']\n",
      "1271\n"
     ]
    }
   ],
   "source": [
    "# TECH category list\n",
    "d_target = [item[0] for item in d]\n",
    "print d_target[0:10]\n",
    "print len(d_target)"
   ]
  },
  {
   "cell_type": "code",
   "execution_count": 503,
   "metadata": {
    "collapsed": false
   },
   "outputs": [
    {
     "name": "stdout",
     "output_type": "stream",
     "text": [
      "['SQL Developer', 'SQL Developer', 'SQL / BI Developer', 'Sr. SQL Developer', 'Sr. SQL Server DBA', 'Sr. SQL Developer', 'PL/SQL Developer', 'Sr. SQL Server DBA', 'SQL Server DBA', 'Sql Server/bi Developer']\n",
      "1271\n"
     ]
    }
   ],
   "source": [
    "# TITLE category list\n",
    "d_title = [' '.join(item[1:2]) for item in d]\n",
    "print d_title[0:10]\n",
    "print len(d_title)"
   ]
  },
  {
   "cell_type": "code",
   "execution_count": 504,
   "metadata": {
    "collapsed": false
   },
   "outputs": [
    {
     "name": "stdout",
     "output_type": "stream",
     "text": [
      "['ETL', 'SSIS', 'SQL', 'Server', 'SQL', 'Server', 'Web', 'JavaScript', 'JQuery', 'HTML5']\n",
      "1271\n"
     ]
    }
   ],
   "source": [
    "# token list\n",
    "d_train = [item[2:] for item in d]\n",
    "print d_train[0][:10]\n",
    "print len(d_train)"
   ]
  },
  {
   "cell_type": "markdown",
   "metadata": {},
   "source": [
    "## 1.2 [NEW] Read origin text corpus from MongoDB instead of using POSTags\n",
    "files are in JSON format"
   ]
  },
  {
   "cell_type": "code",
   "execution_count": 505,
   "metadata": {
    "collapsed": true
   },
   "outputs": [],
   "source": [
    "import pymongo\n",
    "client = pymongo.MongoClient('192.168.1.232',27017)"
   ]
  },
  {
   "cell_type": "code",
   "execution_count": 506,
   "metadata": {
    "collapsed": true
   },
   "outputs": [],
   "source": [
    "db = client.ir"
   ]
  },
  {
   "cell_type": "code",
   "execution_count": 507,
   "metadata": {
    "collapsed": false
   },
   "outputs": [
    {
     "data": {
      "text/plain": [
       "[u'movie',\n",
       " u'TaggedResumes',\n",
       " u'OperatingSystems',\n",
       " u'Jobs',\n",
       " u'Mails',\n",
       " u'KeyWords',\n",
       " u'IndeedJobs',\n",
       " u'TaggedMails',\n",
       " u'ResumeLinks',\n",
       " u'Technologies']"
      ]
     },
     "execution_count": 507,
     "metadata": {},
     "output_type": "execute_result"
    }
   ],
   "source": [
    "db.collection_names()"
   ]
  },
  {
   "cell_type": "code",
   "execution_count": 508,
   "metadata": {
    "collapsed": true
   },
   "outputs": [],
   "source": [
    "resumes = db.TaggedResumes"
   ]
  },
  {
   "cell_type": "code",
   "execution_count": 509,
   "metadata": {
    "collapsed": false
   },
   "outputs": [],
   "source": [
    "summary = resumes.find({},{\"searchKey\": 1, \"title\": 1, \"details.summary\": 1})\n",
    "\n",
    "summary = np.array(list(summary))\n",
    "\n",
    "summary[0].values()#[2].values()\n",
    "\n",
    "for i in range(len(summary)):\n",
    "#summary[0]\n",
    "    summary[i] = summary[i].values()\n",
    "    summary[i][2] = summary[i][2].values()"
   ]
  },
  {
   "cell_type": "code",
   "execution_count": 510,
   "metadata": {
    "collapsed": false
   },
   "outputs": [
    {
     "name": "stdout",
     "output_type": "stream",
     "text": [
      "1071\n"
     ]
    }
   ],
   "source": [
    "print len(summary)\n",
    "#summary"
   ]
  },
  {
   "cell_type": "code",
   "execution_count": 511,
   "metadata": {
    "collapsed": false
   },
   "outputs": [
    {
     "name": "stdout",
     "output_type": "stream",
     "text": [
      "1071 • Over 6 years of Experience in requirements gathering, design, development, implementation and testing the web applications and ETL tools which includes SSIS, SQL Server 2012, and SQL Server 2008. \r\n",
      "• Experience in documenting the business requirements for the development team. \r\n",
      "• Experience in Web design, development, testing/debugging, implementation, and operations in medium-to-large enterprise environments \r\n",
      "• Experienced in JavaScript, JQuery, HTML5, CSS3, and JavaScript. \r\n",
      "• Extensive experience in Microsoft Business Intelligence technologies like SQL Server Integration Services (SSIS) and SQL Server Reporting Services (SSRS). \r\n",
      "• Worked on all activities related to the development, implementation, administration and support of ETL processes for large-scale Data Warehouses using SSIS 2012. \r\n",
      "• Experience in developing Custom Report and different types of Tabular Reports, Matrix Reports, Ad hoc reports and distributed reports in multiple formats using SQL Server Reporting Services (SSRS) in Business intelligence development studio (BIDS)/DATA TOOLS. \r\n",
      "• Expert in using tools like Bulk Copy (BCP), Data Transformation Services (DTS) and SSIS. \r\n",
      "• Expertise in creating Stored Procedures, Functions, Views and Triggers using SQL Server. \r\n",
      "• Experience in Data Modeling using Star Schema/Snowflake Schema, Fact and Dimensions tables, Physical and logical data modeling using Visio. \r\n",
      "• Experience with full Software Development Life Cycle (SDLC). \r\n",
      "• Experience in Agile Methodology and Waterfall models. \r\n",
      "• Experience in working with ETL tools (SSIS). \r\n",
      "• Extensive experience in error handling and problem fixing in SSIS. \r\n",
      "• Worked with File Transfer Protocol (FTP) and Secure File Transfer Protocol (SFTP) to pull or send the files from one server to another server \r\n",
      "• Ability to translate business reporting needs and/or operational reporting requests into technical requirements.\n"
     ]
    }
   ],
   "source": [
    "f_train = [\"\".join(item[2]) for item in summary]\n",
    "print len(f_train), f_train[0]"
   ]
  },
  {
   "cell_type": "code",
   "execution_count": 512,
   "metadata": {
    "collapsed": false
   },
   "outputs": [
    {
     "name": "stdout",
     "output_type": "stream",
     "text": [
      "1071 [u'SQL', u'SQL', u'SQL', u'SQL', u'SQL', u'SQL', u'SQL', u'SQL', u'SQL', u'SQL']\n"
     ]
    }
   ],
   "source": [
    "f_tech = [item[0] for item in summary]\n",
    "print len(f_tech), f_tech[0:10]"
   ]
  },
  {
   "cell_type": "code",
   "execution_count": 513,
   "metadata": {
    "collapsed": false
   },
   "outputs": [
    {
     "name": "stdout",
     "output_type": "stream",
     "text": [
      "1071 [u'SQL Developer', u'SQL Developer', u'SQL / BI Developer', u'Sr. SQL Developer', u'Sr. SQL Server DBA', u'Sr. SQL Developer', u'PL/SQL Developer', u'Sr. SQL Server DBA', u'SQL Server DBA', u'Sql Server/bi Developer']\n"
     ]
    }
   ],
   "source": [
    "f_title = [item[3] for item in summary]\n",
    "print len(f_title), f_title[0:10]"
   ]
  },
  {
   "cell_type": "code",
   "execution_count": 514,
   "metadata": {
    "collapsed": false
   },
   "outputs": [
    {
     "data": {
      "text/plain": [
       "{u'.NET',\n",
       " u'Agile',\n",
       " u'Automation',\n",
       " u'C#',\n",
       " u'C++',\n",
       " u'CRM',\n",
       " u'CSS',\n",
       " u'Cloud',\n",
       " u'HTML',\n",
       " u'Java',\n",
       " u'JavaScript',\n",
       " u'Linux',\n",
       " u'Microsoft SQL Server',\n",
       " u'Microsoft Visio',\n",
       " u'Microsoft Windows',\n",
       " u'Oracle',\n",
       " u'SDLC',\n",
       " u'SQL',\n",
       " u'Unix',\n",
       " u'Web services',\n",
       " u'Workflow',\n",
       " u'XML'}"
      ]
     },
     "execution_count": 514,
     "metadata": {},
     "output_type": "execute_result"
    }
   ],
   "source": [
    "set(f_tech)"
   ]
  },
  {
   "cell_type": "code",
   "execution_count": 546,
   "metadata": {
    "collapsed": false
   },
   "outputs": [
    {
     "data": {
      "text/plain": [
       "{u'\"Scientist C\"',\n",
       " u'.Net Developer',\n",
       " u'.net',\n",
       " u'A/C Helper',\n",
       " u'A/C Installer',\n",
       " u'A/C Technician',\n",
       " u'A/C Technician/installer',\n",
       " u'A/c Apprentice',\n",
       " u'A/c Assembler',\n",
       " u'A/c Technician And Installer',\n",
       " u'ASP.NET / JavaScript Developer',\n",
       " u'ASP.NET, JSON, JQuery, Razor, AJAX, JavaScript, CSS & DHTML, And Angular JS. \\u2022 Experience ...',\n",
       " u'Account Executive, Microsoft',\n",
       " u'Administrative C',\n",
       " u'Agile Coach',\n",
       " u'Agile Coach - Agile Enablement Program',\n",
       " u'Agile Coach - CPrime',\n",
       " u'Agile Coach / Scrum Master',\n",
       " u'Agile Coach/ Scrum Consultant And Agile Trainer',\n",
       " u'Agile Coach/Scrum Master',\n",
       " u'Agile Consultant',\n",
       " u'Agile Engineering Program Manager',\n",
       " u'Agile Practitioner/Scrum Master',\n",
       " u'Agile Product Owner',\n",
       " u'Agile Production Support',\n",
       " u'Agile Program Manager',\n",
       " u'Agile Program Manager (Contract)',\n",
       " u'Agile Project Engineer',\n",
       " u'Agile Project Management Instructor',\n",
       " u'Agile Project Manager',\n",
       " u'Agile Test Lead',\n",
       " u'Agile Tester',\n",
       " u'Agile Trainer And Agile Coach',\n",
       " u'Analyst',\n",
       " u'Android Developer',\n",
       " u'Angular/Javascript Independent Consultant',\n",
       " u'Application Developer (Objective-C)',\n",
       " u'Application Release Coordination And SDLC Administration Subject Matter Expert',\n",
       " u'Arnp, Fnp-c',\n",
       " u'Artist II - HTML Designer',\n",
       " u'Assembler C',\n",
       " u'Associate Consultant',\n",
       " u'Attorney / Web Developer',\n",
       " u'Automation Consultant',\n",
       " u'Automation Control Systems Engineer',\n",
       " u'Automation Engineer',\n",
       " u'Automation Engineer/Supervisor',\n",
       " u'Automation Field Tech',\n",
       " u'Automation Lead',\n",
       " u'Automation Manager',\n",
       " u'Automation QA',\n",
       " u'Automation Staff Agency',\n",
       " u'Automation Supervisor',\n",
       " u'Automation Technician',\n",
       " u'Automation Technician II',\n",
       " u'Automation Technician- Wiring',\n",
       " u'Automation Test Engineer',\n",
       " u'Automation/Controls Engineer',\n",
       " u'Automation/Mobile Automation Engineer',\n",
       " u'Automotive A/c',\n",
       " u'BI/SQL Server Developer',\n",
       " u'Benefit Analyst',\n",
       " u'Benefit Coder',\n",
       " u'Benefit Coding Analyst',\n",
       " u'Benefit Platform Analyst',\n",
       " u'Benefit Quality Analyst',\n",
       " u'Benefit Quality Analyst For Highmark Inc.',\n",
       " u'Benefits Analyst',\n",
       " u'Benefits Quality Analyst',\n",
       " u'Bilingual Microsoft Dynamics CRM Implementation And Support Specialist',\n",
       " u'Building Automation Technician',\n",
       " u'Business Administrator - Microsoft',\n",
       " u'Business Analyst',\n",
       " u'Business Analyst, Jr',\n",
       " u'Business Development Manager In Factory Automation',\n",
       " u'Business Quality Analyst',\n",
       " u'C',\n",
       " u'C Developer',\n",
       " u'C N A/caregiver',\n",
       " u'C N C . Assembly',\n",
       " u'C Programmer',\n",
       " u'C T Technition',\n",
       " u'C Technician',\n",
       " u'C# .NET Web Developer',\n",
       " u'C++/C Developer',\n",
       " u'C-Admin',\n",
       " u'C-Tube Shift Leader',\n",
       " u'C-machanic',\n",
       " u'C-tube Supervisor',\n",
       " u'C. N. A',\n",
       " u'C.N.C MILL Operator',\n",
       " u'C.N.C Machinist',\n",
       " u'C.n.c Machinist',\n",
       " u'C/Unix Developer',\n",
       " u'CRM',\n",
       " u'CRM Administrator',\n",
       " u'CRM Administrator / CRM Sucess Manager',\n",
       " u'CRM Analyst',\n",
       " u'CRM Applications & Support Manager',\n",
       " u'CRM Consultant',\n",
       " u'CRM Developer',\n",
       " u'CRM Lead Consultant',\n",
       " u'CRM Management',\n",
       " u'CRM Reporting Analyst / Admin',\n",
       " u'CRM Solution Developer',\n",
       " u'CRM Specialist',\n",
       " u'CSS',\n",
       " u'CSS - Supervisor',\n",
       " u'CSS : Customer Service Specialist',\n",
       " u'CSS Developer',\n",
       " u'CSS Supervisor',\n",
       " u'CSS Trainer',\n",
       " u'CSS/Cashier',\n",
       " u'CSS/Sales Associate',\n",
       " u'Central Web Content Management And Customer Support Intern',\n",
       " u'Citrix Cloud Virtualization Consultant',\n",
       " u'Class C Forklift Driver',\n",
       " u'Cloud Administrator',\n",
       " u'Cloud Analyst',\n",
       " u'Cloud Architect',\n",
       " u'Cloud Blue',\n",
       " u'Cloud Consultant',\n",
       " u'Cloud Data Engineer',\n",
       " u'Cloud Engineer',\n",
       " u'Cloud Platform Services Sales Executive',\n",
       " u'Cloud Project Lead',\n",
       " u'Cloud Solutions Architect',\n",
       " u'Cloud Supervisor',\n",
       " u'Cloud System Network Technician/Hardware Technical Support',\n",
       " u'Co-Founder And Lead Android Developer (Java/Git/JavaScript/HTML/CSS/Objective-C)',\n",
       " u'Community Support Specialist/CSS Supervisor',\n",
       " u'Computer Technician And Web Development',\n",
       " u'Comsultant',\n",
       " u'Consultant',\n",
       " u'Consulting Agile Coach',\n",
       " u'Content Developer, Editor',\n",
       " u'Content Specialist - Microsoft Xbox Team',\n",
       " u'Contract Administrator -Oracle',\n",
       " u'Contract Automation Engineer',\n",
       " u'Contract JavaScript Programmer',\n",
       " u'Contract Senior Java Developer',\n",
       " u'Controls And Automation Engineer',\n",
       " u'Core Java/ J2ee Developer',\n",
       " u'Crm Administrator',\n",
       " u'Crm Architect',\n",
       " u'Crm Especialist',\n",
       " u'Css',\n",
       " u'Css (Supervisor)',\n",
       " u'Css 3',\n",
       " u'Css I',\n",
       " u'Css Iii',\n",
       " u'Css Staff',\n",
       " u'Customer Service Manager/Supervisor (CSM/CSS)',\n",
       " u'Customer Success Manager, CRM',\n",
       " u'D C W',\n",
       " u'D/c Supervisor',\n",
       " u'DITA Conversion Specialist, Technical Writer',\n",
       " u'Data Analyst /SQL Server DBA/ SQL Server Developer',\n",
       " u'Design Specialist / Solutions Workflow Consultant',\n",
       " u'Developer',\n",
       " u'Developer And Pursue Strong Knowledge Of SDLC',\n",
       " u'Developer I',\n",
       " u'Digital Workflow Support Manager',\n",
       " u'Dir/Agile Coach',\n",
       " u'Director Of Web And Mobile Services',\n",
       " u'Director Of Web Services',\n",
       " u'Director, Cloud Services',\n",
       " u'Dot NET Developer',\n",
       " u'Drill Trainer, R/C',\n",
       " u'Driver',\n",
       " u'Dynamic CRM Consultant',\n",
       " u'Dynamics CRM',\n",
       " u'Dynamics CRM Business Analyst, Avnet',\n",
       " u'Dynamics Crm Funational',\n",
       " u'ECommerce EDI/XML Business Analyst Level 3',\n",
       " u'ERP/CRM Sales Consultant',\n",
       " u'Engineer/Architect',\n",
       " u'Enterprise Agile Coach',\n",
       " u'Enterprise Agile Coach (Consultant)',\n",
       " u'Epic Beaker Trainer And Provider Workflow Specialist',\n",
       " u'Executive Assistant',\n",
       " u'Executive Assistant, Sales & Web Services',\n",
       " u'Executive Director, Oracle Direct - North America',\n",
       " u'Freelance (Java & Javascript Full Stack Developer)',\n",
       " u'Freelance Developer',\n",
       " u'Freelance Digital Designer, Interactive Designer, Animator, Editor, And HTML/CSS ...',\n",
       " u'Freelance Web Developer',\n",
       " u'Front-End Developer',\n",
       " u'Full Stack JavaScript Web Development Student',\n",
       " u'Full Stack Javascript Developer',\n",
       " u'Full-Stack Java And JavaScript Web Developer',\n",
       " u'Full-Stack JavaScript Developer',\n",
       " u'Full-Stack Javascript Developer',\n",
       " u'Full-Stack Javascript Developer And Code Mentor',\n",
       " u'Full\\xadStack JavaScript Developer',\n",
       " u'GIS Programmer',\n",
       " u'Game Developer(Javascript/HTML/CSS)',\n",
       " u'Graphic Designer / Email HTML Coder',\n",
       " u'Group Vice President Oracle Sales & Partner Academy',\n",
       " u'H.V.A.C/R Instructor',\n",
       " u'HTML 5/ AngularJS Internship',\n",
       " u'HTML Coder',\n",
       " u'HTML Coding',\n",
       " u'HTML Coding Tutor',\n",
       " u'HTML Conversion Specialist',\n",
       " u'HTML Developer',\n",
       " u'HTML Developer And Graphic Designer',\n",
       " u'HTML Editor',\n",
       " u'HTML Email Developer',\n",
       " u'HTML Producer',\n",
       " u'HTML Specialist',\n",
       " u'HTML Writer',\n",
       " u'Head Booking Agent',\n",
       " u'Hr & Crm',\n",
       " u'Html , Css',\n",
       " u'Html Email Coder',\n",
       " u'Html Freelancer',\n",
       " u'Html Programmer',\n",
       " u'Html/css Coder',\n",
       " u'Http://lines-news.com/referal/index.html',\n",
       " u'I & C Lead Commissioning Engineer',\n",
       " u'I&E/Automation Technician',\n",
       " u'IT Consultant / Web Developer',\n",
       " u'IT Consulting Services Specialist',\n",
       " u'IT Principal Consultant - Oracle Applications Lab',\n",
       " u'IT Security Consultant And CISSP, C',\n",
       " u'IT Workflow Improvement Lead',\n",
       " u'Implementation Specialist/Oracle Contractor',\n",
       " u'Industrial Electrician I/C',\n",
       " u'Information Systems Engineer Software - Unix Administration',\n",
       " u'Intern',\n",
       " u'Intern - MS Excel, Insurance Data Analysis - R Studio',\n",
       " u'Internship',\n",
       " u'JAVA/J2EE Developer',\n",
       " u'Java Analyst Programmer',\n",
       " u'Java Developer',\n",
       " u'Java Full Stack Developer',\n",
       " u'Java Lead',\n",
       " u'Java, C++, & XML Tutor',\n",
       " u'Java/J2EE Developer',\n",
       " u'Java/J2ee Developer',\n",
       " u'Java/JEE Developer',\n",
       " u'Java/JavaScript Developer',\n",
       " u'JavaScript / Frontend Engineer',\n",
       " u'JavaScript Apprentice And Curriculum Developer',\n",
       " u'JavaScript Consultant',\n",
       " u'JavaScript Developer',\n",
       " u'JavaScript Developer (Full Time)',\n",
       " u'JavaScript Developer Intern',\n",
       " u'JavaScript Engineer',\n",
       " u'JavaScript UI Developer',\n",
       " u'JavaScript/Node.js Developer',\n",
       " u'Javascript',\n",
       " u'Javascript / UI Developer',\n",
       " u'Javascript Developer',\n",
       " u'Javascript Programmer, Ui/ux Developer/designer',\n",
       " u'Javascript Software Engineer',\n",
       " u'Job Seeker',\n",
       " u'Junior Level - Business Analyst (Contractor)',\n",
       " u'Junior Software Engineer',\n",
       " u'Lead / Senior Oracle PL SQL Informatica Developer',\n",
       " u'Lead Business Analyst/Agile',\n",
       " u'Lead Court Advocate, LCSW-C',\n",
       " u'Lead Database Administrator & Architect',\n",
       " u'Lead Javascript Developer For Ruby On Rails Team',\n",
       " u'Lead Javascript Developer, Contractor',\n",
       " u'Lead Oracle PL/SQL Developer ( With NETEZZA )',\n",
       " u'Lead Workflow Coordinator',\n",
       " u'Lead/Sr. Java Developer',\n",
       " u'Lead/Sr. Oracle SOA/OSB Developer',\n",
       " u'Learning Specialist Microsoft',\n",
       " u'Linux Admin',\n",
       " u'Linux Administrator',\n",
       " u'Linux Administrator/ Devops Engineer',\n",
       " u'Linux Consultant',\n",
       " u'Linux Engineer',\n",
       " u'Linux Integrator',\n",
       " u'Linux System Administrator',\n",
       " u'Linux/DevOps/ AWS Administrator',\n",
       " u'Linux/Infrastructure Engineer',\n",
       " u'Linux/Unix Administrator',\n",
       " u'Linux/Unix System Administrator',\n",
       " u'Linux/VMware/AWS System Administrator',\n",
       " u'Linux/Windows Systems Engineer',\n",
       " u'M.a.c Artist',\n",
       " u'MEd, MSN, RN, FNP-C',\n",
       " u'MS CRM Consultant',\n",
       " u'MS Dynamics CRM Consultant',\n",
       " u'MS SQL BI Developer',\n",
       " u'MS SQL Server DBA',\n",
       " u'MS SQL Server/SQL Developer',\n",
       " u'MS SQL Support Developer',\n",
       " u'MS-BI/SQL Server Developer',\n",
       " u'Manager Assistant',\n",
       " u'Manager Of Sales',\n",
       " u'Manager Technology Senior, Imaging Workflow',\n",
       " u'Manager, Business Process Management And Workflow',\n",
       " u'Manager, Cloud Alliance Manager',\n",
       " u'Manager, Sales Cloud CRM Quality Assurance At Oracle Corporation',\n",
       " u'Marketing/CRM Intern',\n",
       " u'Mechanic C - PM Technician',\n",
       " u'Members Web/Admin Web/ACA Web Services',\n",
       " u'Microsoft Application Support',\n",
       " u'Microsoft Azure Support Engineer',\n",
       " u'Microsoft Business Solutions Architect',\n",
       " u'Microsoft Certified Application Developer (MCAD)',\n",
       " u'Microsoft Certified Trainer / Consultant',\n",
       " u'Microsoft Concierge',\n",
       " u'Microsoft Consultant',\n",
       " u'Microsoft Dynamics CRM Consultant',\n",
       " u'Microsoft Dynamics CRM Developer',\n",
       " u'Microsoft Dynamics CRM-Developer',\n",
       " u'Microsoft Expert',\n",
       " u'Microsoft Gold Managed Partner',\n",
       " u'Microsoft Inside Sales Executive',\n",
       " u'Microsoft Licensing - Senior Consultant',\n",
       " u'Microsoft Licensing And Product Specialist',\n",
       " u'Microsoft Lync Advisor',\n",
       " u'Microsoft MVP',\n",
       " u'Microsoft Premier Field Engineer - Platforms',\n",
       " u'Microsoft Retail Stores Business Desk Lead',\n",
       " u'Microsoft SQL Developer (Volunteer)',\n",
       " u'Microsoft SQL SERVER DBA',\n",
       " u'Microsoft SQL Server DBA, Consultant',\n",
       " u'Microsoft Specialist',\n",
       " u'Microsoft Specialist - Developing Microsoft Azure Solutions',\n",
       " u'Microsoft Sql Server Database Developer And Administrator',\n",
       " u'Microsoft Student Partner',\n",
       " u'Microsoft Support Analyst',\n",
       " u'Microsoft System Administrator',\n",
       " u'Microsoft System Test Engineer For Windows Phone',\n",
       " u'Microsoft Technologies Expert',\n",
       " u'Microsoft Visio For The Project Management',\n",
       " u'Microsoft Visio Programmer',\n",
       " u'Microsoft Windows Engineer',\n",
       " u'Microsoft Windows Installation, Configuration, Management And Maintenance',\n",
       " u'Microsoft Windows Specialist / Desktop Troubleshooter (Volunteer)',\n",
       " u'Mobile Developer Intern',\n",
       " u'Ms.SQL Server Developer',\n",
       " u'N.A.C/Team Lead',\n",
       " u'N/C Opprater',\n",
       " u'NET And Javascript Developer',\n",
       " u'NET Developer',\n",
       " u'NET Programmer',\n",
       " u'Net Application Developer',\n",
       " u'Net Developer',\n",
       " u'Net/Azure Developer',\n",
       " u'Network, Cloud Architect, & Storage',\n",
       " u'Nintex Form And Workflow Developer',\n",
       " u'ORACLE Micros Payment Gateway Level 2 Analyst',\n",
       " u'ORACLE PL/SQL Developer',\n",
       " u'Operador C',\n",
       " u'Operations Engineering Lead / Javascript Developer',\n",
       " u'Operator C',\n",
       " u'Oracle APEX Developer',\n",
       " u'Oracle Apps Technical Consultant',\n",
       " u'Oracle Assembler 2',\n",
       " u'Oracle Consultant',\n",
       " u'Oracle Consulting Senior Principal Consultant',\n",
       " u'Oracle DBA',\n",
       " u'Oracle Database Administrator',\n",
       " u'Oracle Database Administrator, WebLogic Admin',\n",
       " u'Oracle Database Administrator_9.5years',\n",
       " u'Oracle Developer',\n",
       " u'Oracle Engineer',\n",
       " u'Oracle Engineered Systems Account Manager',\n",
       " u'Oracle Health Sciences Technical Support Engineer',\n",
       " u'Oracle PL/SQL Developer And Production Support Analyst',\n",
       " u'Oracle University - Global Logistics Senior Scheduler',\n",
       " u'Oracle, Senior Software Engineer / Technical Lead',\n",
       " u'Oracle/unix Programmer',\n",
       " u'Owner',\n",
       " u'PARs Liaison / NYCAPS Workflow Originator',\n",
       " u'PHP Web Services Development',\n",
       " u'PL/SQL Developer',\n",
       " u'Pa-c',\n",
       " u'Packaged Terminal A/C Technician',\n",
       " u'Painter Q/C Inspector',\n",
       " u'Paralegal C',\n",
       " u'Part\\xadtime Application Developer',\n",
       " u'Perform Tutorial In System Analysis And Design, SQL, HTML, CSS',\n",
       " u'Personal Security Transportation',\n",
       " u'Plastiq Magazine Contributor',\n",
       " u'Premier SQL Support Engineer At Microsoft',\n",
       " u'President/Sr Automation Engineer',\n",
       " u'Primavera, Microsoft Project Manager, Visio',\n",
       " u'Principal - Oracle CRM',\n",
       " u'Principal Agile Consultant',\n",
       " u'Principal CRM Consultant',\n",
       " u'Principal Group Program Manager, Director Of PM, Windows Server',\n",
       " u'Principle Architect & Social Media SDLC Evangelist',\n",
       " u'Product Development Intern',\n",
       " u'Product Owner',\n",
       " u'Product Software Engineer Co-op',\n",
       " u'Production Associates',\n",
       " u'Professional Services / Web Support Specialist',\n",
       " u'Program Director / Cloud Technical Operations',\n",
       " u'Program Manager',\n",
       " u'Program Manager - Microsoft Azure Marketplace',\n",
       " u'Program Manager - Windows Shell',\n",
       " u'Program Manager / Project Manager',\n",
       " u'Program Manager II - SQL Server // Data Warehousing',\n",
       " u'Program Manager, Windows Phone Marketplace Merchandising',\n",
       " u'Program Manager/Workflow Coordinator',\n",
       " u'Project Engineer- Window / Unix Admin',\n",
       " u'Project Lead',\n",
       " u'Project Management & Process Improvement & Change Management & Training - ITIL, Six ...',\n",
       " u'Project Manager For Microsoft',\n",
       " u'Project Manager, Windows And Devices Group',\n",
       " u'Project Manager-Agile Coach',\n",
       " u'Projectmanager-kmart&searsmarketing',\n",
       " u'QA Analyst / Manual Tester / Windows OS Testing',\n",
       " u'QA Automation',\n",
       " u'QA Tester/Web Services',\n",
       " u'QA Testing Coordinator, Contractor (HM Health Solutions)',\n",
       " u'QA Training In JavaScript, Selenium, SQL, XML',\n",
       " u'Qmhp-c',\n",
       " u'Quality Analyst',\n",
       " u'Quality Assurance Analyst',\n",
       " u'Robot Motion Planner (JavaScript)',\n",
       " u'SAP ABAP & Workflow Consultant',\n",
       " u'SAP ABAP/ Workflow Consultant',\n",
       " u'SAP ABAP/Workflow Technical Lead',\n",
       " u'SAP CRM Functional Consultant',\n",
       " u'SAP CRM Lead',\n",
       " u'SAP CRM Technical Consultant',\n",
       " u'SAP Workflow Consultant',\n",
       " u'SNMP Linux Developer',\n",
       " u'SQL',\n",
       " u'SQL / BI Developer',\n",
       " u'SQL BI Developer',\n",
       " u'SQL BI Developer (SSIS/SSRS/SSAS)',\n",
       " u'SQL BI Developer/DBA',\n",
       " u'SQL DBA, SQL Support',\n",
       " u'SQL Developer',\n",
       " u'SQL Developer / MS Azure',\n",
       " u'SQL Premier Field Engineer',\n",
       " u'SQL Server Administrator',\n",
       " u'SQL Server BI Developer',\n",
       " u'SQL Server DBA',\n",
       " u'SQL Server DBA/Developer',\n",
       " u'SQL Server Database Administrator',\n",
       " u'SQL Server Developer',\n",
       " u'SQL Server Developer/ BI Developer',\n",
       " u'SQL Server/ MSBI Developer',\n",
       " u'SQL Server/Reporting Developer',\n",
       " u'SQL-SSRS/SSIS Developer',\n",
       " u'SQL/MSBI Data Analyst',\n",
       " u'SQL/MX -SQL/MP Database Administrator',\n",
       " u'Sa-c',\n",
       " u'Sahith SQL BI (SSIS/SSRS/SSAS) Developer',\n",
       " u'Sales/Customer Service Consultant For Microsoft Store',\n",
       " u'Scholastic Software Tester / HTML Programmer - Consultant',\n",
       " u'Script/Software Developer',\n",
       " u'Scrum Master/Agile Coach',\n",
       " u'Scrum Master/Project Manager',\n",
       " u'Security Software Architect (Cloud Security & Bigdata Analytics)',\n",
       " u'Selenium/Mobile/ Web Services Tester',\n",
       " u'Senior .NET Developer',\n",
       " u'Senior .Net Developer',\n",
       " u'Senior Agile Project Manager',\n",
       " u'Senior Automation Project Engineer',\n",
       " u'Senior CRM And Cloud Architect',\n",
       " u'Senior Consultant, Business Analyst',\n",
       " u'Senior Design Researcher, Windows And Devices Group, Research & Intelligence',\n",
       " u'Senior Developer',\n",
       " u'Senior Java Developer',\n",
       " u'Senior Java/J2EE Developer',\n",
       " u'Senior JavaScript / UI Developer',\n",
       " u'Senior JavaScript Developer',\n",
       " u'Senior JavaScript Engineer',\n",
       " u'Senior Linux Engineer',\n",
       " u'Senior Linux/AWS Engineer',\n",
       " u'Senior Microsoft SQL Server BI (SSIS/SSRS) And T-SQL Developer',\n",
       " u'Senior Microsoft SQL Server Developer',\n",
       " u'Senior Oracle PL/SQL Developer',\n",
       " u'Senior Program Manager - The Windows Bridge For IOS',\n",
       " u'Senior Program Manager, Global Marketing Operations (GMO)',\n",
       " u'Senior Project Manager',\n",
       " u'Senior SDLC Process And Tool Specialist',\n",
       " u'Senior SQL Developer/ SSRS Report Developer',\n",
       " u'Senior SQL SERVER DBA',\n",
       " u'Senior SQL Server DBA',\n",
       " u'Senior Scrum Master (pmo, Agile Development)',\n",
       " u'Senior Software Engineer',\n",
       " u'Senior Systems Analyst',\n",
       " u'Senior Systems Engineer (UNIX)',\n",
       " u'Senior Tech Program Manager',\n",
       " u'Senior UNIX Engineer',\n",
       " u'Senior Unix Administrator',\n",
       " u'Senior Web Content Developer-Web Content Manager/Web Service Team',\n",
       " u'Service Engineer - Xbox Live',\n",
       " u'Service Reliability Engineer - Microsoft Law Enforcement & National Security ...',\n",
       " u'SoapUI, Micro Strategy Test Management, SQL, XML, WSDL, SOAP, Clear Quest',\n",
       " u'Software Developer',\n",
       " u'Software Development Engineer II In Xbox For Xbox On Windows',\n",
       " u'Software Development Manager, Agile',\n",
       " u'Software Engineer',\n",
       " u'Software Engineer II',\n",
       " u'Software/HTML/CSS Developer',\n",
       " u'Solutions Services Web Developer',\n",
       " u'Spanish Localization Tester',\n",
       " u'Sql Dba',\n",
       " u'Sql Server Dba',\n",
       " u'Sql Server/bi Developer',\n",
       " u'Sql-server Database Administrator',\n",
       " u'Sql/ssis/ssrs Developer',\n",
       " u'Sr .Net Developer',\n",
       " u'Sr Agile SDLC Project Manager',\n",
       " u'Sr Cybersecurity Risk Management + SDLC + Business Process',\n",
       " u'Sr I/C Tech',\n",
       " u'Sr Java Developer',\n",
       " u'Sr Java Web Developer',\n",
       " u'Sr Java/J2EE Developer',\n",
       " u'Sr Project Manager',\n",
       " u'Sr SQL DBA Admin',\n",
       " u'Sr SQL Server/SQL BI Developer',\n",
       " u'Sr Unix System Admininstrator',\n",
       " u'Sr Web Services Developer',\n",
       " u'Sr. AWS/Cloud DevOps Engineer',\n",
       " u'Sr. Agile Consultant',\n",
       " u'Sr. CRM Consultant',\n",
       " u'Sr. CSV Specialist / Quality Specialist / Multi-Project Manager',\n",
       " u'Sr. Consultant/Project Manager',\n",
       " u'Sr. Finance Manager - Cloud Infrastructure & FP&A',\n",
       " u'Sr. Java Developer',\n",
       " u'Sr. Java Developer & Team Lead',\n",
       " u'Sr. Java/ J2EE Developer',\n",
       " u'Sr. Java/J2EE Developer',\n",
       " u'Sr. Java/UI Developer',\n",
       " u'Sr. MS CRM Consultant',\n",
       " u'Sr. MS SQL Server BI Developer',\n",
       " u'Sr. Microsoft Dynamics CRM Consultant',\n",
       " u'Sr. Microsoft Dynamics CRM Developer',\n",
       " u'Sr. Microsoft SQL Server Developer/DBA',\n",
       " u'Sr. Net Developer',\n",
       " u'Sr. OBIEE/ PL-SQL Developer',\n",
       " u'Sr. Oracle Administrator',\n",
       " u'Sr. Oracle Apps DBA - Principal Consultant',\n",
       " u'Sr. Oracle DBA',\n",
       " u'Sr. Oracle Database Administrator',\n",
       " u'Sr. Oracle Developer',\n",
       " u'Sr. Oracle PL/SQL Developer / Salesforce Admin',\n",
       " u'Sr. Oracle SOA/OSB Developer',\n",
       " u'Sr. Pega Developer',\n",
       " u'Sr. Product Owner (Agile SDLC)',\n",
       " u'Sr. Project Lead (Testing)',\n",
       " u'Sr. SQL BI /Power BI Developer',\n",
       " u'Sr. SQL Developer',\n",
       " u'Sr. SQL Operations Engineer',\n",
       " u'Sr. SQL Server DBA',\n",
       " u'Sr. SQL Server Developer',\n",
       " u'Sr. ScrumMaster / Agile Coach',\n",
       " u'Sr. Software Test Engineer',\n",
       " u'Sr. UI Developer/JavaScript Developer',\n",
       " u'Sr. UNIX System Administrator',\n",
       " u'Sr. UNIX Systems Administrator',\n",
       " u'Sr. Unix/AIX Administrator',\n",
       " u'Sr. Unix/Linux Administrator',\n",
       " u'Sr. Unix/Linux System Administrator/Unix Architect',\n",
       " u'Sr.NET Developer',\n",
       " u'Sr.Net Developer',\n",
       " u'Sr.QA Automation Tester',\n",
       " u'Staff Consultant, Oracle Flexcube Consulting, Western Europe Region',\n",
       " u'Support Engineer In Windows Platforms And Setup Team/core',\n",
       " u'System Engineer DevOps (Web Services)',\n",
       " u'Systems Engineer, Application Development & Maintenance (ADM)',\n",
       " u'Systems Technician/Windows Administrator',\n",
       " u'TECHNICAL SUPPORT ANALYST- Microsoft Campus',\n",
       " u'Team Lead',\n",
       " u'Team Lead & Architect',\n",
       " u'Team Lead - Outbound/Quality Control/Automation/Inbound',\n",
       " u'Team Lead In XML Technical Publications Writer/Editor',\n",
       " u'Team Lead/Workflow Coordinator',\n",
       " u'Technical Agile Business Analyst',\n",
       " u'Technical Lead (Microsoft .NET)',\n",
       " u'Technical Publications Architect',\n",
       " u'Technical Writer',\n",
       " u'Technical Writer Of SDLC Artifacts And Deliverables',\n",
       " u'Technical Writer/Editor',\n",
       " u'Technical Writer/XML Editor',\n",
       " u'Technical Writing Intern',\n",
       " u'Temp Visio Project',\n",
       " u'Test Automation Engineer',\n",
       " u'Tractor Trailer Operator',\n",
       " u'Training Manager / Agile Coach',\n",
       " u'UNIX / Linux Systems Engineer',\n",
       " u'UNIX Administrator',\n",
       " u'UNIX Application Support Engineer',\n",
       " u'UNIX Consultant',\n",
       " u'UNIX Engineer',\n",
       " u'UNIX Network Administrator',\n",
       " u'UNIX System Administrator',\n",
       " u'UNIX Systems Administrator',\n",
       " u'UNIX/LINUX Admin',\n",
       " u'UNIX/Linux Support Administrator',\n",
       " u'Unix Administrator',\n",
       " u'Unix Application Developer',\n",
       " u'Unix Engineer',\n",
       " u'Unix Scripts/sql Developer',\n",
       " u'Unix Support Engineer',\n",
       " u'Unix Systems Engineer',\n",
       " u'Unix Systems Supervisor',\n",
       " u'Unix Tower Lead',\n",
       " u'Unix/Linux / Solaris Administrator',\n",
       " u'Unix/Linux Administrator',\n",
       " u'Unix/Linux System Administrator',\n",
       " u'Unix/linux System Administrator',\n",
       " u'Upload Both The Template And DP (XML) To The Server EngageOne',\n",
       " u'Ux / Web Services Manager',\n",
       " u'VP, Product Marketing For Cloud Services Governance Platform',\n",
       " u'VP/Systems Development Life Cycle (SDLC) Manager',\n",
       " u'Visio Curator',\n",
       " u'Visio Process Mapping Expert',\n",
       " u'Visio Solutions Sales Professional, Desert Mountain & Southern California Regions',\n",
       " u'Visio Support',\n",
       " u'Visio/Project Management',\n",
       " u'Web Application Developer',\n",
       " u'Web Consultant',\n",
       " u'Web Content Manager/HTML Front End Developer',\n",
       " u'Web Design & Digital Marketing Specialist',\n",
       " u'Web Designer',\n",
       " u'Web Designer & Marketing',\n",
       " u'Web Designer, Web Consultant, Owner',\n",
       " u'Web Designer/ Developer / SEO / Social Media / UI/UX / HTML 5 / CSS3 / Magento / Senior ...',\n",
       " u'Web Dev Volunteer',\n",
       " u'Web Developer',\n",
       " u'Web Developer (HTML/JS/PHP/MySQL)',\n",
       " u'Web Developer / Web Master',\n",
       " u'Web Developer Intern',\n",
       " u'Web Developer Intern - PHP, JavaScript',\n",
       " u'Web Developer PHP / JAVA / CSS /HTML',\n",
       " u'Web Developer/Designer',\n",
       " u'Web Developer/Programmer',\n",
       " u'Web Freelance And Consultant',\n",
       " u'Web HTML Editor Intern',\n",
       " u'Web Services / Web Developer Intern',\n",
       " u'Web Services Librarian',\n",
       " u'Web Services Manager',\n",
       " u'Web Services, Web Process Consultant',\n",
       " u'Web Services/CTO',\n",
       " u'Web Writer',\n",
       " u'Web/HTML Designer/Developer',\n",
       " u'Webmaster/Graphic Designer',\n",
       " u'Windows 7, Citrix, Enterprise Express Editor, And Microsoft Word',\n",
       " u'Windows Administrator',\n",
       " u'Windows Co-Engineering Manager',\n",
       " u'Windows Engineer',\n",
       " u'Windows Infrastructure Engineer',\n",
       " u'Windows Reliability And Performance Engineer',\n",
       " u'Windows Server Engineer I',\n",
       " u'Windows Store Software Test Engineer & Content Reviewer (Launch Consulting)',\n",
       " u'Windows Systems Administrator',\n",
       " u'Windows/VMware Administrator',\n",
       " u'Windows/VMware Engineer',\n",
       " u'WordPress Web Developer',\n",
       " u'WorkFlow Administrator',\n",
       " u'Workflow Administrator',\n",
       " u'Workflow Administrator / Accounts Payable Invoice Verification Clerk',\n",
       " u'Workflow Analyst Consultant',\n",
       " u'Workflow Coordinator',\n",
       " u'Workflow Coordinator (Contract)',\n",
       " u'Workflow Coordinator II',\n",
       " u'Workflow Coordinator Lead',\n",
       " u'Workflow Coordinator, Benefit Analyst II',\n",
       " u'Workflow Coordinator- Fannie Mae Trailing Documents Team',\n",
       " u'Workflow Coordinator/laboratory Assistant',\n",
       " u'Workflow Director',\n",
       " u'Workflow Document Control Manager',\n",
       " u'Workflow Monitor Specialist III',\n",
       " u'Workflow Rep',\n",
       " u'Workflow Specialist',\n",
       " u'Workflow Tech',\n",
       " u'Workload Automation Scheduler',\n",
       " u'XML Content Specialist',\n",
       " u'XML Programmer',\n",
       " u'XML Schema Designer/Data Modeler',\n",
       " u'Xml/html'}"
      ]
     },
     "execution_count": 546,
     "metadata": {},
     "output_type": "execute_result"
    }
   ],
   "source": [
    "set(f_title)"
   ]
  },
  {
   "cell_type": "markdown",
   "metadata": {},
   "source": [
    "## 2. Processing input data : job requirement.docx/doc"
   ]
  },
  {
   "cell_type": "markdown",
   "metadata": {},
   "source": [
    "### 2.1 Read in raw text into single string"
   ]
  },
  {
   "cell_type": "code",
   "execution_count": 515,
   "metadata": {
    "collapsed": false
   },
   "outputs": [
    {
     "data": {
      "text/plain": [
       "\"Senior Oracle Database Developer  Softweb Solutions Inc - Parsippany, NJ - Must have strong Oracle PL/SQL application development skills and excellent knowledge of Stored Procedures, Functions, Packages, Triggers, Views,Materialized Views, Cursors, and XML features and writing and tuning complex SQL queries. - Additionally, experience with autonomous transactions and error handling is highly desirable. - Experience in Implementing data models and database designs - Experienced with Stored procedure creation/debugging/ optimization/tuning - Experience with UNIX shell and CVS is helpful - Experience with Oracle 12c is desirable - Writing and creating data load scripts and stored procedures; ensuring that data is loaded in a timely manner daily - Working with application developers to assist in database design, query tuning, index assignment, and trigger and procedure creation - Ability to research and trouble-shoot application problems using PL/SQL programming skills - Ensuring that the integrity of company databases is maintained - Actively helping our Data Integrity team reconcile data - Excellent communication skills; works well in a team environment  Required Skills / Competencies: - 5-8+ years Software Development experience - 5-8+ years Designing and developing applications on Oracle RDBMS - 5+ years of experience in complex stored procedure creation and using performance tuning techniques - 4+ years of experience in creating and maintaining SQL code for medium to large OLTP applications  Agile Methodology programming experience is a plus  Job Type: Full-time  Job Location:  Parsippany, NJ Required education:  Bachelor's Required experience:  Oracle PL/SQL: 5 years  \""
      ]
     },
     "execution_count": 515,
     "metadata": {},
     "output_type": "execute_result"
    }
   ],
   "source": [
    "#with open('./Python_job_req1.txt', 'r') as myfile: # python\n",
    "#with open('./java-developer-req1.txt', 'r') as myfile: # java\n",
    "#with open('./sql-req1.txt', 'r') as myfile: # SQL\n",
    "with open('./oracle-req1.txt', 'r') as myfile: # Oracle\n",
    "    test_raw=myfile.read().replace('\\n', ' ')\n",
    "    \n",
    "test_raw = test_raw.replace(\"\\x95\\t\",\" \")\n",
    "test_raw"
   ]
  },
  {
   "cell_type": "markdown",
   "metadata": {},
   "source": [
    "### 2.2 POSTagging and keep nouns [no longer needed]"
   ]
  },
  {
   "cell_type": "code",
   "execution_count": 516,
   "metadata": {
    "collapsed": false
   },
   "outputs": [
    {
     "name": "stdout",
     "output_type": "stream",
     "text": [
      "Senior Oracle Database Developer Softweb Solutions Inc - Parsippany , NJ - Must have strong Oracle PL/SQL application development skills\n"
     ]
    }
   ],
   "source": [
    "tokens = nltk.word_tokenize(test_raw.decode('UTF-8'))\n",
    "print ' '.join(tokens[:20])"
   ]
  },
  {
   "cell_type": "code",
   "execution_count": 517,
   "metadata": {
    "collapsed": false
   },
   "outputs": [
    {
     "data": {
      "text/plain": [
       "[(u'Senior', 'JJ'),\n",
       " (u'Oracle', 'NNP'),\n",
       " (u'Database', 'NNP'),\n",
       " (u'Developer', 'NNP'),\n",
       " (u'Softweb', 'NNP'),\n",
       " (u'Solutions', 'NNP'),\n",
       " (u'Inc', 'NNP'),\n",
       " (u'-', ':'),\n",
       " (u'Parsippany', 'NN'),\n",
       " (u',', ','),\n",
       " (u'NJ', 'NNP')]"
      ]
     },
     "execution_count": 517,
     "metadata": {},
     "output_type": "execute_result"
    }
   ],
   "source": [
    "input_postag = nltk.pos_tag(tokens)\n",
    "input_postag[:11]"
   ]
  },
  {
   "cell_type": "code",
   "execution_count": 518,
   "metadata": {
    "collapsed": false
   },
   "outputs": [
    {
     "name": "stdout",
     "output_type": "stream",
     "text": [
      "Oracle|Database|Developer|Softweb|Solutions|Inc|NJ|Oracle|PL/SQL|Stored|Procedures|Functions|Packages|Triggers|Views|Materialized|Views|Cursors|XML|SQL|Implementing|Stored|UNIX|CVS|Oracle|PL/SQL|Data|Integrity|Required|Skills|Software|Development|Oracle|RDBMS|SQL|OLTP|Agile|Methodology|Job|Type|Job|Location|NJ|Required|Bachelor|PL/SQL\n"
     ]
    }
   ],
   "source": [
    "# filtering list, keep NNP only\n",
    "input_postag_nn = [x[0] for x in input_postag if x[1] == 'NNP']\n",
    "#input_postag_nn = list(set(input_postag_nn))\n",
    "print '|'.join(input_postag_nn)"
   ]
  },
  {
   "cell_type": "markdown",
   "metadata": {},
   "source": [
    "## 3. Classification using Naive Bayes in scikit-learn \n",
    "[Working With Text](http://scikit-learn.org/stable/tutorial/text_analytics/working_with_text_data.html#working-with-text-data)  \n",
    "[Multinomial Naive Bayes](http://scikit-learn.org/stable/modules/naive_bayes.html#multinomial-naive-bayes)  \n",
    "[MultinomialNB Example](http://scikit-learn.org/stable/modules/generated/sklearn.naive_bayes.MultinomialNB.html#sklearn.naive_bayes.MultinomialNB)"
   ]
  },
  {
   "cell_type": "code",
   "execution_count": 519,
   "metadata": {
    "collapsed": false
   },
   "outputs": [],
   "source": [
    "from sklearn.naive_bayes import MultinomialNB\n",
    "from sklearn.feature_extraction.text import CountVectorizer"
   ]
  },
  {
   "cell_type": "code",
   "execution_count": 520,
   "metadata": {
    "collapsed": true
   },
   "outputs": [],
   "source": [
    "d_train_l = [\" \".join(item) for item in d_train]"
   ]
  },
  {
   "cell_type": "code",
   "execution_count": 521,
   "metadata": {
    "collapsed": false
   },
   "outputs": [],
   "source": [
    "#d_train_l"
   ]
  },
  {
   "cell_type": "code",
   "execution_count": 522,
   "metadata": {
    "collapsed": true
   },
   "outputs": [],
   "source": [
    "input_nn = \" \".join(input_postag_nn)"
   ]
  },
  {
   "cell_type": "code",
   "execution_count": 523,
   "metadata": {
    "collapsed": false
   },
   "outputs": [],
   "source": [
    "# Initialize the \"CountVectorizer\" object, which is scikit-learn's\n",
    "# bag of words tool.  \n",
    "vectorizer = CountVectorizer(ngram_range=(1, 2))#(stop_words = 'english')\n",
    "vectorizer_new = CountVectorizer(stop_words='english',ngram_range=(1, 2))#(stop_words = 'english')"
   ]
  },
  {
   "cell_type": "code",
   "execution_count": 524,
   "metadata": {
    "collapsed": false
   },
   "outputs": [],
   "source": [
    "#X_vectorized = vectorizer.fit_transform(X_nn_summary_list)\n",
    "d_train_l_vector = vectorizer.fit_transform(d_train_l)\n",
    "\n",
    "# vectorize full text training data\n",
    "f_train_vector = vectorizer_new.fit_transform(f_train)"
   ]
  },
  {
   "cell_type": "code",
   "execution_count": 525,
   "metadata": {
    "collapsed": false
   },
   "outputs": [
    {
     "name": "stdout",
     "output_type": "stream",
     "text": [
      "(1271, 41473)\n",
      "1271\n",
      "(1071, 55508)\n",
      "1071\n"
     ]
    }
   ],
   "source": [
    "print d_train_l_vector.shape\n",
    "print len(d_target)\n",
    "print f_train_vector.shape\n",
    "print len(f_tech)"
   ]
  },
  {
   "cell_type": "code",
   "execution_count": 526,
   "metadata": {
    "collapsed": false
   },
   "outputs": [],
   "source": [
    "#print vectorizer.get_feature_names()"
   ]
  },
  {
   "cell_type": "code",
   "execution_count": 527,
   "metadata": {
    "collapsed": false
   },
   "outputs": [
    {
     "data": {
      "text/plain": [
       "25093"
      ]
     },
     "execution_count": 527,
     "metadata": {},
     "output_type": "execute_result"
    }
   ],
   "source": [
    "vectorizer_new.vocabulary_.get(u'java')"
   ]
  },
  {
   "cell_type": "code",
   "execution_count": 528,
   "metadata": {
    "collapsed": false
   },
   "outputs": [],
   "source": [
    "from sklearn.feature_extraction.text import TfidfTransformer\n",
    "#tf_transformer = TfidfTransformer(use_idf=False).fit(d_train_l_vector)\n",
    "#d_train_tf = tf_transformer.transform(d_train_l_vector)\n",
    "#d_train_tf.shape"
   ]
  },
  {
   "cell_type": "code",
   "execution_count": 529,
   "metadata": {
    "collapsed": false
   },
   "outputs": [
    {
     "name": "stdout",
     "output_type": "stream",
     "text": [
      "(1271, 41473)\n",
      "1271 <type 'list'>\n",
      "(1071, 55508)\n",
      "1071 <type 'list'>\n",
      "1071\n"
     ]
    }
   ],
   "source": [
    "tfidf_transformer = TfidfTransformer()\n",
    "tfidf_transformer_new = TfidfTransformer()\n",
    "d_train_tfidf = tfidf_transformer.fit_transform(d_train_l_vector)\n",
    "print d_train_tfidf.shape\n",
    "print len(d_target),type(d_target)\n",
    "\n",
    "f_train_tfidf = tfidf_transformer_new.fit_transform(f_train_vector)\n",
    "print f_train_tfidf.shape\n",
    "print len(f_tech),type(f_tech)\n",
    "print len(f_title)"
   ]
  },
  {
   "cell_type": "code",
   "execution_count": 530,
   "metadata": {
    "collapsed": false
   },
   "outputs": [
    {
     "data": {
      "text/plain": [
       "15.633994172019005"
      ]
     },
     "execution_count": 530,
     "metadata": {},
     "output_type": "execute_result"
    }
   ],
   "source": [
    "f_train_tfidf.toarray()[0].sum()"
   ]
  },
  {
   "cell_type": "code",
   "execution_count": 531,
   "metadata": {
    "collapsed": false
   },
   "outputs": [],
   "source": [
    "# input_nn = \" \".join(tokens)  # comment out this line if you want to use nnp instead of all test corpus\n",
    "# vectorize test data with nnp only\n",
    "input_nn_list = [input_nn]\n",
    "input_nn_vectorized = vectorizer.transform(input_nn_list)"
   ]
  },
  {
   "cell_type": "code",
   "execution_count": 532,
   "metadata": {
    "collapsed": true
   },
   "outputs": [],
   "source": [
    "# test_raw to vector\n",
    "test_raw_list = [test_raw]\n",
    "test_raw_vectorized = vectorizer_new.transform(test_raw_list)"
   ]
  },
  {
   "cell_type": "code",
   "execution_count": 533,
   "metadata": {
    "collapsed": false
   },
   "outputs": [],
   "source": [
    "# test with data from training set\n",
    "testString = d_train_l[0].replace(\"\\xe2\\x80\\xa2\",\"\")\n",
    "testStringList = [testString]\n",
    "testVector = vectorizer.transform(testStringList)\n",
    "\n",
    "testString_new = f_train[0]\n",
    "testStringList_new = [testString_new]\n",
    "testVector_new = vectorizer_new.transform(testStringList_new)\n",
    "\n",
    "testVector2 = vectorizer.transform([\"This is a job requirement for python programmer\\\n",
    "    who needs to know flask, numpy and pandas.\"])\n",
    "testVector2_new = vectorizer_new.transform([\"This is a job requirement for python programmer\\\n",
    "    who needs to know python and python libraries such as flask, numpy and pandas.\"])"
   ]
  },
  {
   "cell_type": "code",
   "execution_count": 534,
   "metadata": {
    "collapsed": false
   },
   "outputs": [
    {
     "name": "stdout",
     "output_type": "stream",
     "text": [
      "['SQL'] ['Python']\n",
      "['SQL'] ['Python']\n",
      "['Net Developer'] ['Python Developer']\n"
     ]
    }
   ],
   "source": [
    "# fit multinomial Naive Bayes model\n",
    "clf1 = MultinomialNB()\n",
    "clf2 = MultinomialNB()\n",
    "clf3 = MultinomialNB()\n",
    "\n",
    "model1 = clf1.fit(d_train_l_vector, d_target) # TECH model\n",
    "# validate model using training data\n",
    "print model1.predict(testVector),model1.predict(testVector2) # Python # SQL\n",
    "\n",
    "model2 = clf2.fit(d_train_tfidf, d_target) # TECH model w/ df-idf\n",
    "print model2.predict(testVector),model2.predict(testVector2) # Python # SQL\n",
    "\n",
    "model3 = clf3.fit(d_train_tfidf, d_title) # TITILE model w/ df-idf\n",
    "print model3.predict(testVector),model3.predict(testVector2) # Python # SQL"
   ]
  },
  {
   "cell_type": "code",
   "execution_count": 535,
   "metadata": {
    "collapsed": false
   },
   "outputs": [
    {
     "name": "stdout",
     "output_type": "stream",
     "text": [
      "Model1-Tech1: ['PL/SQL']\n",
      "Model2-Tech2: ['PL/SQL']\n",
      "Model3-Title: ['Oracle PL/SQL Developer']\n"
     ]
    }
   ],
   "source": [
    "# predict test data\n",
    "print \"Model1-Tech1:\", model1.predict(input_nn_vectorized)\n",
    "print \"Model2-Tech2:\", model2.predict(input_nn_vectorized)\n",
    "print \"Model3-Title:\", model3.predict(input_nn_vectorized)"
   ]
  },
  {
   "cell_type": "code",
   "execution_count": 536,
   "metadata": {
    "collapsed": false
   },
   "outputs": [
    {
     "name": "stdout",
     "output_type": "stream",
     "text": [
      "Senior Oracle | Oracle|Database|Developer|Softweb|Solutions|Inc|NJ|Oracle|PL/SQL|Stored|Procedures|Functions|Packages|Triggers|Views|Materialized|Views|Cursors|XML|SQL|Implementing|Stored|UNIX|CVS|Oracle|PL/SQL|Data|Integrity|Required|Skills|Software|Development|Oracle|RDBMS|SQL|OLTP|Agile|Methodology|Job|Type|Job|Location|NJ|Required|Bachelor|PL/SQL\n"
     ]
    }
   ],
   "source": [
    "# test data, 2grams is not shown here. 2grams are generated when calling vectorizer\n",
    "print \" \".join(tokens[:2]), \"|\",\"|\".join(input_nn.split(\" \"))"
   ]
  },
  {
   "cell_type": "markdown",
   "metadata": {},
   "source": [
    "#### using full text"
   ]
  },
  {
   "cell_type": "code",
   "execution_count": 537,
   "metadata": {
    "collapsed": false
   },
   "outputs": [],
   "source": [
    "# fit multinomial Naive Bayes model\n",
    "clf1_new = MultinomialNB()\n",
    "clf2_new = MultinomialNB()\n",
    "clf3_new = MultinomialNB()\n",
    "\n",
    "model1_new = clf1_new.fit(f_train_vector, f_tech) # TECH model\n"
   ]
  },
  {
   "cell_type": "code",
   "execution_count": 538,
   "metadata": {
    "collapsed": false
   },
   "outputs": [
    {
     "name": "stdout",
     "output_type": "stream",
     "text": [
      "[u'SQL'] [u'Linux']\n",
      "[u'SQL'] [u'Linux']\n",
      "[u'Net Developer'] [u'Linux Administrator']\n"
     ]
    }
   ],
   "source": [
    "# validate model using training data\n",
    "print model1_new.predict(testVector_new),model1_new.predict(testVector2_new) # Python # SQL\n",
    "\n",
    "model2_new = clf2_new.fit(f_train_tfidf, f_tech) # TECH model w/ df-idf\n",
    "print model2_new.predict(testVector_new),model2_new.predict(testVector2_new) # Python # SQL\n",
    "\n",
    "model3_new = clf3_new.fit(f_train_tfidf, f_title) # TITILE model w/ df-idf\n",
    "print model3_new.predict(testVector_new),model3_new.predict(testVector2_new) # Python # SQL"
   ]
  },
  {
   "cell_type": "code",
   "execution_count": 545,
   "metadata": {
    "collapsed": false
   },
   "outputs": [
    {
     "name": "stdout",
     "output_type": "stream",
     "text": [
      "Model1_new-Tech1: [u'SQL']\n",
      "Model2_new-Tech2: [u'SQL']\n",
      "Model3_new-Title: [u'Net Developer']\n"
     ]
    }
   ],
   "source": [
    "# predict test data\n",
    "print \"Model1_new-Tech1:\", model1_new.predict(test_raw_vectorized)\n",
    "print \"Model2_new-Tech2:\", model2_new.predict(test_raw_vectorized)\n",
    "print \"Model3_new-Title:\", model3_new.predict(test_raw_vectorized)"
   ]
  },
  {
   "cell_type": "markdown",
   "metadata": {},
   "source": [
    "## Classifiying using Random Forest"
   ]
  },
  {
   "cell_type": "code",
   "execution_count": 540,
   "metadata": {
    "collapsed": false
   },
   "outputs": [
    {
     "name": "stdout",
     "output_type": "stream",
     "text": [
      "Training the random forest...\n"
     ]
    }
   ],
   "source": [
    "print \"Training the random forest...\"\n",
    "from sklearn.ensemble import RandomForestClassifier\n",
    "forest1 = RandomForestClassifier(n_estimators = 100) #random_state=15326\n",
    "forest2 = RandomForestClassifier(n_estimators = 100)\n",
    "forest3 = RandomForestClassifier(n_estimators = 100)"
   ]
  },
  {
   "cell_type": "code",
   "execution_count": 541,
   "metadata": {
    "collapsed": false
   },
   "outputs": [],
   "source": [
    "forest1 = forest1.fit(f_train_vector, f_tech)\n",
    "forest2 = forest2.fit(f_train_tfidf, f_tech)\n",
    "forest3 = forest3.fit(f_train_tfidf, f_title)"
   ]
  },
  {
   "cell_type": "code",
   "execution_count": 542,
   "metadata": {
    "collapsed": false
   },
   "outputs": [
    {
     "name": "stdout",
     "output_type": "stream",
     "text": [
      "[u'SQL'] [u'CSS']\n"
     ]
    }
   ],
   "source": [
    "# validate model with data from training set\n",
    "print forest1.predict(testVector_new), forest1.predict(testVector2_new)  #SQL Python"
   ]
  },
  {
   "cell_type": "code",
   "execution_count": 543,
   "metadata": {
    "collapsed": false
   },
   "outputs": [
    {
     "name": "stdout",
     "output_type": "stream",
     "text": [
      "Forest1-Tech1: [u'SQL']\n",
      "Forest2-Tech2: [u'Oracle']\n",
      "Forest3-Title: [u'Oracle DBA']\n"
     ]
    }
   ],
   "source": [
    "# test data\n",
    "print \"Forest1-Tech1:\",forest1.predict(test_raw_vectorized)\n",
    "print \"Forest2-Tech2:\",forest2.predict(test_raw_vectorized)\n",
    "print \"Forest3-Title:\",forest3.predict(test_raw_vectorized)"
   ]
  },
  {
   "cell_type": "code",
   "execution_count": 544,
   "metadata": {
    "collapsed": false
   },
   "outputs": [
    {
     "data": {
      "text/plain": [
       "\"Senior Oracle Database Developer  Softweb Solutions Inc - Parsippany, NJ - Must have strong Oracle PL/SQL application development skills and excellent knowledge of Stored Procedures, Functions, Packages, Triggers, Views,Materialized Views, Cursors, and XML features and writing and tuning complex SQL queries. - Additionally, experience with autonomous transactions and error handling is highly desirable. - Experience in Implementing data models and database designs - Experienced with Stored procedure creation/debugging/ optimization/tuning - Experience with UNIX shell and CVS is helpful - Experience with Oracle 12c is desirable - Writing and creating data load scripts and stored procedures; ensuring that data is loaded in a timely manner daily - Working with application developers to assist in database design, query tuning, index assignment, and trigger and procedure creation - Ability to research and trouble-shoot application problems using PL/SQL programming skills - Ensuring that the integrity of company databases is maintained - Actively helping our Data Integrity team reconcile data - Excellent communication skills; works well in a team environment  Required Skills / Competencies: - 5-8+ years Software Development experience - 5-8+ years Designing and developing applications on Oracle RDBMS - 5+ years of experience in complex stored procedure creation and using performance tuning techniques - 4+ years of experience in creating and maintaining SQL code for medium to large OLTP applications  Agile Methodology programming experience is a plus  Job Type: Full-time  Job Location:  Parsippany, NJ Required education:  Bachelor's Required experience:  Oracle PL/SQL: 5 years  \""
      ]
     },
     "execution_count": 544,
     "metadata": {},
     "output_type": "execute_result"
    }
   ],
   "source": [
    "test_raw"
   ]
  },
  {
   "cell_type": "code",
   "execution_count": null,
   "metadata": {
    "collapsed": true
   },
   "outputs": [],
   "source": []
  }
 ],
 "metadata": {
  "anaconda-cloud": {},
  "kernelspec": {
   "display_name": "Python 2",
   "language": "python",
   "name": "python2"
  },
  "language_info": {
   "codemirror_mode": {
    "name": "ipython",
    "version": 2
   },
   "file_extension": ".py",
   "mimetype": "text/x-python",
   "name": "python",
   "nbconvert_exporter": "python",
   "pygments_lexer": "ipython2",
   "version": "2.7.12"
  }
 },
 "nbformat": 4,
 "nbformat_minor": 1
}
