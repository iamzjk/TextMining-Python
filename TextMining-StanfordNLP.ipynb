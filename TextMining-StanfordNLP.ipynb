{
 "cells": [
  {
   "cell_type": "code",
   "execution_count": 1,
   "metadata": {
    "collapsed": true
   },
   "outputs": [],
   "source": [
    "import docx2txt\n",
    "from pycorenlp import StanfordCoreNLP"
   ]
  },
  {
   "cell_type": "code",
   "execution_count": 5,
   "metadata": {
    "collapsed": false
   },
   "outputs": [],
   "source": [
    "job1txt = docx2txt.process(\"/Users/jingkun/GitHub/javaworkspace/IntelliMind-Jobs/job-requirements/job1.docx\")"
   ]
  },
  {
   "cell_type": "code",
   "execution_count": 9,
   "metadata": {
    "collapsed": false,
    "scrolled": true
   },
   "outputs": [
    {
     "name": "stdout",
     "output_type": "stream",
     "text": [
      "(ROOT\n",
      "  (S\n",
      "    (NP (NNP Pusheen)\n",
      "      (CC and)\n",
      "      (NNP Smitha))\n",
      "    (VP (VBD walked)\n",
      "      (PP (IN along)\n",
      "        (NP (DT the) (NN beach))))\n",
      "    (. .)))\n",
      "Timeout when executing TokensRegex query\n",
      "{u'sentences': [{u'0': {u'text': u'walked', u'begin': 3, u'end': 4}, u'length': 1}, {u'1': {u'text': u'fell', u'begin': 6, u'end': 7}, u'0': {u'text': u'wanted', u'begin': 1, u'end': 2}, u'length': 2}]}\n"
     ]
    }
   ],
   "source": [
    "nlp = StanfordCoreNLP('http://localhost:9000')\n",
    "\n",
    "text = (\n",
    "    'Pusheen and Smitha walked along the beach. Pusheen wanted to surf,'\n",
    "    'but fell off the surfboard.')\n",
    "\n",
    "output = nlp.annotate(text, properties={\n",
    "    'annotators': 'tokenize,ssplit,pos,depparse,parse',\n",
    "    'outputFormat': 'json'\n",
    "})\n",
    "\n",
    "print(output['sentences'][0]['parse'])\n",
    "output = nlp.tokensregex(text, pattern='/Pusheen|Smitha/', filter=False)\n",
    "print(output)\n",
    "output = nlp.semgrex(text, pattern='{tag: VBD}', filter=False)\n",
    "print(output)"
   ]
  },
  {
   "cell_type": "code",
   "execution_count": 6,
   "metadata": {
    "collapsed": false
   },
   "outputs": [],
   "source": [
    "from nltk.tag.stanford import StanfordPOSTagger"
   ]
  },
  {
   "cell_type": "code",
   "execution_count": 12,
   "metadata": {
    "collapsed": false
   },
   "outputs": [],
   "source": [
    "stanford_dir = \"/Users/jingkun/GitHub/java-libs/stanford-corenlp-full-2015-12-09\""
   ]
  },
  {
   "cell_type": "code",
   "execution_count": 13,
   "metadata": {
    "collapsed": true
   },
   "outputs": [],
   "source": [
    "modelfile = stanford_dir + \"\""
   ]
  },
  {
   "cell_type": "code",
   "execution_count": 5,
   "metadata": {
    "collapsed": false
   },
   "outputs": [],
   "source": [
    "import pymongo"
   ]
  },
  {
   "cell_type": "code",
   "execution_count": 6,
   "metadata": {
    "collapsed": false
   },
   "outputs": [],
   "source": [
    "from pymongo import MongoClient"
   ]
  },
  {
   "cell_type": "code",
   "execution_count": 13,
   "metadata": {
    "collapsed": false
   },
   "outputs": [],
   "source": [
    "client = MongoClient(\"127.0.0.1\",27017)"
   ]
  },
  {
   "cell_type": "code",
   "execution_count": 14,
   "metadata": {
    "collapsed": false
   },
   "outputs": [
    {
     "data": {
      "text/plain": [
       "{u'allocator': u'system',\n",
       " u'bits': 64,\n",
       " u'buildEnvironment': {u'cc': u'/usr/bin/clang: Apple LLVM version 8.0.0 (clang-800.0.38)',\n",
       "  u'ccflags': u'-I/usr/local/opt/openssl/include -fno-omit-frame-pointer -fPIC -fno-strict-aliasing -ggdb -pthread -Wall -Wsign-compare -Wno-unknown-pragmas -Winvalid-pch -O2 -Wno-unused-local-typedefs -Wno-unused-function -Wno-unused-private-field -Wno-deprecated-declarations -Wno-tautological-constant-out-of-range-compare -Wno-unused-const-variable -Wno-missing-braces -Wno-inconsistent-missing-override -Wno-potentially-evaluated-expression -Wno-null-conversion -mmacosx-version-min=10.11 -fno-builtin-memcmp',\n",
       "  u'cxx': u'/usr/bin/clang++: Apple LLVM version 8.0.0 (clang-800.0.38)',\n",
       "  u'cxxflags': u'-Wnon-virtual-dtor -Woverloaded-virtual -Wpessimizing-move -Wredundant-move -std=c++11',\n",
       "  u'distarch': u'x86_64',\n",
       "  u'distmod': u'',\n",
       "  u'linkflags': u'-L/usr/local/opt/openssl/lib -fPIC -pthread -Wl,-bind_at_load -mmacosx-version-min=10.11',\n",
       "  u'target_arch': u'x86_64',\n",
       "  u'target_os': u'osx'},\n",
       " u'debug': False,\n",
       " u'gitVersion': u'79d9b3ab5ce20f51c272b4411202710a082d0317',\n",
       " u'javascriptEngine': u'mozjs',\n",
       " u'maxBsonObjectSize': 16777216,\n",
       " u'modules': [],\n",
       " u'ok': 1.0,\n",
       " u'openssl': {u'compiled': u'OpenSSL 1.0.2j  26 Sep 2016',\n",
       "  u'running': u'OpenSSL 1.0.2j  26 Sep 2016'},\n",
       " u'storageEngines': [u'devnull',\n",
       "  u'ephemeralForTest',\n",
       "  u'mmapv1',\n",
       "  u'wiredTiger'],\n",
       " u'sysInfo': u'deprecated',\n",
       " u'version': u'3.2.10',\n",
       " u'versionArray': [3, 2, 10, 0]}"
      ]
     },
     "execution_count": 14,
     "metadata": {},
     "output_type": "execute_result"
    }
   ],
   "source": [
    "client.server_info()"
   ]
  },
  {
   "cell_type": "code",
   "execution_count": 20,
   "metadata": {
    "collapsed": false
   },
   "outputs": [],
   "source": [
    "db = client.test_database"
   ]
  },
  {
   "cell_type": "code",
   "execution_count": 19,
   "metadata": {
    "collapsed": false
   },
   "outputs": [
    {
     "data": {
      "text/plain": [
       "[u'local']"
      ]
     },
     "execution_count": 19,
     "metadata": {},
     "output_type": "execute_result"
    }
   ],
   "source": [
    "client.database_names()"
   ]
  },
  {
   "cell_type": "code",
   "execution_count": 12,
   "metadata": {
    "collapsed": true
   },
   "outputs": [],
   "source": [
    "import datetime\n",
    "post = {\"author\": \"Mike\",\n",
    "        \"text\": \"My first blog post!\",\n",
    "        \"tags\": [\"mongodb\", \"python\", \"pymongo\"],\n",
    "        \"date\": datetime.datetime.utcnow()}"
   ]
  },
  {
   "cell_type": "code",
   "execution_count": 13,
   "metadata": {
    "collapsed": true
   },
   "outputs": [],
   "source": [
    "posts= db.posts"
   ]
  },
  {
   "cell_type": "code",
   "execution_count": 14,
   "metadata": {
    "collapsed": true
   },
   "outputs": [],
   "source": [
    "post_id = posts.insert_one(post).inserted_id"
   ]
  },
  {
   "cell_type": "code",
   "execution_count": 15,
   "metadata": {
    "collapsed": false
   },
   "outputs": [
    {
     "data": {
      "text/plain": [
       "ObjectId('57f727e43d2a8f275edef906')"
      ]
     },
     "execution_count": 15,
     "metadata": {},
     "output_type": "execute_result"
    }
   ],
   "source": [
    "post_id"
   ]
  },
  {
   "cell_type": "code",
   "execution_count": null,
   "metadata": {
    "collapsed": true
   },
   "outputs": [],
   "source": []
  }
 ],
 "metadata": {
  "kernelspec": {
   "display_name": "textmining_Python2",
   "language": "python",
   "name": "textmining_python2"
  },
  "language_info": {
   "codemirror_mode": {
    "name": "ipython",
    "version": 2
   },
   "file_extension": ".py",
   "mimetype": "text/x-python",
   "name": "python",
   "nbconvert_exporter": "python",
   "pygments_lexer": "ipython2",
   "version": "2.7.12"
  }
 },
 "nbformat": 4,
 "nbformat_minor": 0
}
